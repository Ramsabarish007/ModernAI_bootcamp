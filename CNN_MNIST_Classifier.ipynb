{
  "cells": [
    {
      "cell_type": "markdown",
      "metadata": {
        "id": "view-in-github",
        "colab_type": "text"
      },
      "source": [
        "<a href=\"https://colab.research.google.com/github/Ramsabarish007/ModernAI_bootcamp/blob/main/CNN_MNIST_Classifier.ipynb\" target=\"_parent\"><img src=\"https://colab.research.google.com/assets/colab-badge.svg\" alt=\"Open In Colab\"/></a>"
      ]
    },
    {
      "cell_type": "code",
      "source": [
        "%matplotlib inline\n",
        "# required to get plots on the Jupyter notebook"
      ],
      "metadata": {
        "id": "FOk_IAR_0S4s"
      },
      "execution_count": null,
      "outputs": []
    },
    {
      "cell_type": "markdown",
      "source": [
        "# **A friendly introduction to Deep Learning with Keras and TensorFlow**\n",
        "\n",
        "**Resources: [Daniel Moser (UT Southwestern Medical Center)](https://github.com/AviatorMoser),[Xavier Snelgrove](https://github.com/wxs/keras-mnist-tutorial), [Yash Katariya](https://github.com/yashk2810/MNIST-Keras)**\n",
        "\n",
        "**Adapted by**: Vishnu (Ex.Invento- IIT Madras) <br>\n",
        "![image.png](data:image/png;base64,iVBORw0KGgoAAAANSUhEUgAAAEIAAABWCAYAAAB7E0BlAAAYcGlDQ1BJQ0MgUHJvZmlsZQAAWIWVWQc8le3fv+6zz7HPsffeZO+9994kHOtYccxQIskqUSFKJZmVSqESkYZSRg9JEsmoFCoqI+9t1PO8z//9vO/nvT6f676+53f9rt+61v07NwBcnb6RkWEIRgDCI2KoDqYG/G7uHvzYaYAC7IAeyANlX3J0pL6dnRWAy+/2v5elQQBttM9lNmT9Z///Woj+AdFkACAvGPv5R5PDYXwXAFQaOZIaAwDGCKYLxcdEbuBgGDNTYQNhnLyBg7bw0Q3st4UrNnmcHAxh3AwAjtbXlxoEAH0nTOePIwfBcujfwX3ECH9KBMz6A8Y65GBffwC41GAe6fDw3RsYrkAc5o+EcS6M1fz+ITPov8n3+yPf1zfoD97ya7PgjCjRkWG+e/6fofm/S3hY7G8donClDaaaOWz4D8dwKHS35QamhfFshJ+N7UasYfyD4r8VdwAQhOBYM+ctfgQ3OdoQjh9ghbGcv6+RJYy5YWwSEWZjtU33C6SYmMMYXi2IBEqMudP22MyAaGPHbZmnqLsdbH/jQKqh/vbYy77UTb0b/J2xoc762/KHggPMf8v/lhjs5ApjAgBIQhzFxQbG9DBmjg51tNziQQomBhva/Oahxjps2C8MY7WACFODLflIr0CqicM2f2R49G9/kRnBFHObbVwcE+xkthUfZC3Zd9N+dhg3BkToO/+WExDtZvXbF/8AI+Mt35HPAiKct/1FjkbGGDhsj52PDLPb5kfhAsJMN+iCMOaMjnPcHovSioEX55Z8lFVkjJ3Tlp0onxBfC7ste1BxwAoYAiPAD2Lh6gd2gxBAeTbbNAv/2uoxAb6ACoJAAJDZpvwe4brZEwE/HUEi+ASjABD9Z5zBZm8AiIPpa3+oW08ZELjZG7c5IhRMwTgcWIIw+Hfs5qiIP9pcwDuYQvkP7WTY1jC4bvT9J00fplhtU2J/y+Vn+M2JMcYYYcwwJhgJFCdKB6WJsoKfenBVQKmh1H9b+zc/egrdh36LHkCPoV/uoqRR/2WLNRiD5Ztse+z3T49RorBMZZQBShuWDktGsaI4gQxKCdajj9KFNSvDVMNtuzd85/8f/PzjwT9ivs2Hl8Mj8Gx4Pbz4v0fSS9Ir/5GyEdF/xmfLVr8/UTX80/Nv/Yb/iLM/3Fr+mxOZiWxAPkS2I7uQLcgmwI9sQzYju5F3NvCfNfRucw391uawaU8oLIfyH/p8t3VuRDJark7uvdzqdh+ICUiI2dhghrsj91ApQcEx/PrwLRDAbx5BlpXmV5BTUARg407ZOqa+OmzeFRBrz9808kEAVOcBwC//TQv/CsAVeI/zW/9NE/GGtxkGgOopciw1bouG2nig4dOAAd5RHIAXCAFx2CMFoAI0gR4wBhbAFjgBd+ANxzkYXs9UEA+SQSrIADngKDgBSsAZcB5Ug0vgGmgCLaAdPABPQC8YAK/g9TMJPoJ5sARWIAjCQnQQCeKA+CARSApSgNQgHcgYsoIcIHfIBwqCIqBYKBk6AOVABVAJdA6qga5CN6F2qAvqg15C49B76Au0jEAiaBHMCB6EKGIHQg2hj7BEOCF2IoIQUYhERDriCKIYUY64iGhEtCOeIAYQY4iPiEUkQNIgWZECSBmkGtIQaYv0QAYiqch9yGxkIbIceRl5C57p58gx5CzyJwqDIqH4UTLwGjZDOaPIqCjUPlQuqgRVjWpEdaKeo8ZR86hfaDo0N1oKrYE2R7uhg9Dx6Ax0IboSfQN9H95Nk+glDAbDihHDqMK70R0TgknC5GJOY+oxdzF9mAnMIhaL5cBKYbWxtlhfbAw2A3sSexHbhu3HTmJ/4GhwfDgFnAnOAxeBS8MV4mpxrbh+3DRuBc+IF8Fr4G3x/vg9+Dx8Bf4Wvgc/iV8hMBHECNoEJ0IIIZVQTLhMuE8YIXyloaERpFGnsaeh0OynKaa5QvOIZpzmJy2RVpLWkNaLNpb2CG0V7V3al7Rf6ejoROn06DzoYuiO0NXQ3aMbpftBT6KXpTen96dPoS+lb6Tvp//MgGcQYdBn8GZIZChkaGDoYZhlxDOKMhoy+jLuYyxlvMn4gnGRicQkz2TLFM6Uy1TL1MU0Q8QSRYnGRH9iOvE88R5xgoQkCZEMSWTSAVIF6T5pkhnDLMZszhzCnMN8ifkZ8zwLkUWJxYUlgaWU5Q7LGCuSVZTVnDWMNY/1Gusg6zIbD5s+WwBbFttltn627+xc7HrsAezZ7PXsA+zLHPwcxhyhHPkcTRyvOVGckpz2nPGcZZz3OWe5mLk0uchc2VzXuIa5EdyS3A7cSdznubu5F3l4eUx5InlO8tzjmeVl5dXjDeE9ztvK+56PxKfDR+E7ztfG94GfhV+fP4y/mL+Tf16AW8BMIFbgnMAzgRVBMUFnwTTBesHXQgQhNaFAoeNCHULzwnzC1sLJwnXCwyJ4ETWRYJEikYci30XFRF1FD4k2ic6IsYuZiyWK1YmNiNOJ64pHiZeL/yWBkVCTCJU4LdEriZBUlgyWLJXskUJIqUhRpE5L9UmjpdWlI6TLpV/I0Mroy8TJ1MmMy7LKWsmmyTbJft4hvMNjR/6Ohzt+ySnLhclVyL2SJ8pbyKfJ35L/oiCpQFYoVfhLkU7RRDFFsVlxQUlKKUCpTGlImaRsrXxIuUN5TUVVhapyWeW9qrCqj+op1RdqzGp2arlqj9TR6gbqKeot6j81VDRiNK5pzGnKaIZq1mrOaIlpBWhVaE1oC2r7ap/THtPh1/HROaszpiug66tbrvtWT0jPX69Sb1pfQj9E/6L+ZwM5A6rBDYPvhhqGew3vGiGNTI2yjZ4ZE42djUuMR00ETYJM6kzmTZVNk0zvmqHNLM3yzV6Y85iTzWvM5y1ULfZadFrSWjpalli+tZK0olrdskZYW1gfsx6xEbGJsGmyBbbmtsdsX9uJ2UXZ3bbH2NvZl9pPOcg7JDs8dCQ57nKsdVxyMnDKc3rlLO4c69zhwuDi5VLj8t3VyLXAdcxth9tetyfunO4U92YPrIeLR6XHoqex5wnPSS9lrwyvwZ1iOxN2dnlzeod539nFsMt3V4MP2sfVp9Zn1dfWt9x30c/c75TfPNmQXET+6K/nf9z/fYB2QEHAdKB2YEHgTJB20LGg98G6wYXBsxRDSgllIcQs5EzI91Db0KrQ9TDXsPpwXLhP+M0IYkRoROdu3t0Ju/sipSIzIseiNKJORM1TLamV0VD0zujmGGb45b07Vjz2YOx4nE5cadyPeJf4hgSmhIiE7j2Se7L2TCeaJF5IQiWRkzqSBZJTk8f36u89tw/a57evI0UoJT1lcr/p/upUQmpo6tM0ubSCtG8HXA/cSudJ358+cdD0YF0GfQY148UhzUNnMlGZlMxnWYpZJ7N+ZftnP86RyynMWc0l5z4+LH+4+PD6kcAjz/JU8sqOYo5GHB3M182vLmAqSCyYOGZ9rPE4//Hs499O7DrRVahUeKaIUBRbNFZsVdx8Uvjk0ZOrJcElA6UGpfWnuE9lnfp+2v90f5le2eUzPGdyziyfpZwdOmd6rrFctLzwPOZ83PmpCpeKhxfULtRUclbmVK5VRVSNVTtUd9ao1tTUctfm1SHqYuveX/S62HvJ6FLzZZnL5+pZ63OugCuxVz5c9bk6eM3yWkeDWsPl6yLXT90g3chuhBr3NM43BTeNNbs39920uNlxS/PWjduyt6taBFpK77DcyWsltKa3rrclti3ejbw72x7UPtGxq+PVPbd7f3Xadz67b3n/0QOTB/ce6j9se6T9qKVLo+vmY7XHTU9UnjR2K3ffeKr89MYzlWeNPao9zb3qvbf6tPpa+3X7258bPX/wl/lfTwZsBvoGnQeHXni9GBvyH5p5GfZyYThueOXV/hH0SPZrxteFo9yj5W8k3tSPqYzdGTca737r+PbVBHni47vod6uT6VN0U4XTfNM1MwozLe9N3vd+8Pww+THy48psxiemT6c+i3++Pqc31z3vNj+5QF1Y/5L7leNr1Telbx2LdoujS+FLK9+zf3D8qP6p9vPhsuvy9Er8Kna1eE1i7dYvy18j6+Hr65G+VN/NVwEkXBGBgQB8qQKAzh0AUi+cJnhu5XzbBQm/fCDg1gWShT4i0uEbtQeVgTbBIDFPsMW4CLwVQYIGSzNL20/XRF/FUMlYz9RM7CA9Ye5lGWJ9wzbD/pFjgXOZa40HwYvlI/DTCRAFiUKswuwibKLsYtziPBL8kvxSgtLCMqKyYjuk5eTkFRVUFDWUdJWNVcxVzdVM1E00TDQNtfS1tXQ0dJX0ZPVFDXgMmY0IRuvGX02mTF+adZu3WFRbHrNKsQ6xcbM1tlO2F3PgcmR0wjkjXSBXhBvKHe/B6MnhJbxTxltil7APny+nHwuZ5E8MIAWyBnEFC1KkQ1RDTcJcwikRybsLIiuizlKLo/NjcmOz4rLjjyQU76lObE16tRfsk07Ztf9k6qsDgum7D7YfwmQKZSlkG+Q45gYeTjySn1d99G7+cMHicaYTMoUWRYHFB06Wldws7T/17vTiGexZjnOS5VrnbSv8LsRUHqwqrK6uuVn7uG744odLP+txV9iuil/TbXC/HnUjq/F0U31z282uWz23e1ue3OlovdpWejelfVeHxj3ivanOm/drH5x6mPMoocvvsfkT2W767tmn95+d6onsNegj9U30X3ue+pf9gMggavD9i+6h+pcFwzGvXEbUXnO+Xh0dfdM+dmE86+3uCed3WpPC8Cpbmv5r5vr7og8pH8NmyZ/InyPncuZvLMx91ft2bon0vfin1PKz1ZRfGuvr/5h/BeQMqgBtiWHBvMY24HLxQQQjGklaBtpVumn6IYYhxjdM74ifSF+Zl1jWWFfY1th/caxxLnF95Z7jmeId4evnvy9wU7BSKEc4TMRKVFIML/ZBvEuiRjJbiiJtKSMjSyc7t6NP7rp8kUKyIlnJXtlARUFVQI2otq7+WWNEs0urUbtcJ1c3Xs9H38JAwZDTCGH03viZyRXTfLNocycLFUs2yxWrN9b3bGpt8+2S7AMdHB31neSdBVxIrljXZbeP7iMe3Z53vOp3nvU+tuuQT7Iv1Y9C9vX3CHAKtA+yCbakWIaYhWqGyYYLRLDspolERK5G/aD+jF6LRccR44USNPY4JUYnFSa37J1KodnPlyqTpn3AJt3vYHzG4UOVmW1Zw9nfc5kPKxyxz4s4eji/ruDRsXfH1ws5i5SL7U6GlhwsPXOq+XRv2cyZX+eYyyXOa1fYXSBXxlYdqi6Gz7nuurlLxMuK9Y5Xoq7mXatr6Lw+cuNLE6aZ46bkLY3bFi1udwJbY9pS7qa2H+g4eC+j89D9zAfZD3MfHe46/Pjwk8PduU9znmX1HOpN70vt3/s87q+ogd2DkS9ihpJeHhw+9qp8pOH1g9GXbz6Ng7fECcF38pM6U+bTfjNn33/6qDyb9Kn18695zYW4L5e/vltkX7L8nvKj4ef0Cveqw1r2r87t+TdG6CN3ID+j2tGHMI5YcewC7iY+g+BAw00zSnueLpxenQHB0M6YzmRBZCD2ko4y27IwsDxlzWYzYYfYmzkiOIU4h7hyuHW4P/GU8prxfuMr4zfj/yxwXFBDcERorzC/cKuIt8iqaLGYkli3eID4qsQxSSnJNilHqSnpVBkRmSHZ3B0GO77JVcl7KtAptClGKgko9SunqSiojKvmqWmrfVIv1TDXWNQ8r2Wv9Uu7TsddF6t7Q4+sT9S/axBpyG/Ya5RmrGQ8bVJiagu/d9w2j7KQsnhnWWblYc1q/dymwNbBjmQ3aH/SwdtR2PGD01XnRBdjVwbXYbdK92gPA09az0GvMzuDvRW8V3bd98n39fKT8Fsid/ofC/ANVAxCBQ0G11JSQpxCpcPQYW/Cb0UU746PdI3SoPJGo6JnYwZi2+Pq48sS8vakJsYnhSb77925zy3Fab9Dqn2a/QGHdKeD7hk7DwVkhmZFZ6fkZOYWHC47UpPXePRefl/B6LHPJ1CFEkVexUdP3i9ZOSV72q/sxJnHZ1fLFc4HVJRc6KlCVWvVxNfW1328JHk5pL72ytw1lYb917sbOZrCmjtv8d1OaXnbatXW0i7fcbFT6v7VhwaPhh8ndPM97e053Of0XHQADH4cejf84TV4IzK+a6J2Cj2T+BF8qpgnf9VdUvvpvFq8Mf9b//1tFIwKACcOAbDxf45DDQC5FwEQ2wMAG5x72tEB4KQOEAKmAFrsAJCF9p/7A4ITTwIgAR4gCdSAGZxfhsE5ZRGoB11gAqxB7JAy5AhFQyegZug1nPNJI1wQqYh6xCiSAWmAjEdeQk7BWZoXqhT1Cs7EfNAX0J8wKphUzDMsDzYc24Yj4Si4djwnPhbfT1AkFBFWacg0T2nVaavp2Oly6RH0SfTfGWIZlhgTmSCmbCIrsYKkRuplDmHBslxgNWadYstkl2Lv5Yjh5OBs5fLnpuG+xuPBi+S9xOcJZwR9AnmCtkJMQs+Fi0Q8RQVEp8QuikdLaEhCkl1S+dKe8Oqcl+3f0SJXKV+gsE+RouSorKHCpwqpjqm1qB/XCNHU1qLXGtGu0YnR1dXD6fXpNxhcN2wyumXcanLPtMusx3zQYtRy2mrBesUWZ8dqL+qg5mjlRHZOdil2bXWb8SB56ntF7iz3HvAh+Or7JZGb/b8HqgUlBbeHEEKdwyrCF3ebRZZFzUVrxeTEjsYrJRzds5Dkmvxgn3ZKa6pl2kR6VoZ2Jsjqy7ly+FReQb7ZMeTx+4X5xQElhqekywTPipQrVdhURlWX1j65BOpVr9o0uN8Ibkq+eeL2tTv9bUsdvJ1mD2IenX38rHutR6Zv5/MjA3eHSMPkkUujs+PcE2qTetPy7+k/vJg98nnHXPuC2ZfObwqLJUvLP+x/XlheWNVYS/l1d/P82Jp/Ijz/EkAVmABXEAL2geOgDnSCUfADIkFykA0UAR2FGqCXCICQgLP8NMRVxFs4j7dCpiPbkCsobdQBVDeaHR2IbsTgMd6YRiwjNgz7BCeNy8Mt4r3wDwiyhCIaJE0UzTitM+1jOkO6Vnot+jtwFvuI0Z5xFM5T14nHSbKkp8wRcObZzOrLRsPWzB7IwcrxkHMPlzTXOHcRjy0vjreDbz+/gQBG4KlgoZCvsKzwqki3aJlYlLixBJfEF8nHUuelU2Q8ZTV3SMixy+PlVxXmFCeUXig/VrmtelGtRP2QBlXTU8tQW1KHUWdRd1ivVb/e4Kphg1GT8W2TNtNOs8fmvRYvLN9YTVsv2KzY4exZHcQc1Z2snf1d9rqWuN10H/ZY8xLcaeEds+usT48fRFbxjwioCZwKFqWEhFwNXQ43jSjcPROlRd0b3RaLirOKL0qYSlRPOpI8vc84pTqVPm3PgWn4POnNtMh6mGOW233EIW8sP+UY7/G7hYHF9CebS/1Pk8oenN1brnL+y4WrVbE1WnWYiwOXL1xJvuZ1XaWRvmni5vXbB+7YtLHfHe+o6aQ+0HqE7Rp8UvN0f49Xn85zkQGmwUdDzi8nXyW+Zh69NuY0vjpRPek+zTDT9SFz1vIz49yLhbNfQxZVviN+9CyXrgb9UtyefyTAANrNE0AcqMArwA2Eg4PgDLgNhuH9LwhZQLFQBTSIoEEYwTu/A4lD2iPPIL+gLFBVaDyain6DcYJ3uw12AEfG/cQXEtQJkzQnafVoR+iS6PnpuxjiGSUZJ5jOEP1IEqTvzA9ZyliT2DzZ9TikONm5aLgR3Ks8y7yr/EAAC7+B8gjLimiLOogFie+XOCl5A86752UZdyjIucrvU6hQ7FFaUZFQdVcrUO/XZNZy167QmdPT1j9s8MZI0TjHZNxMy7zQ4ouVnfUlW1q7MPvHjpJOOc4fXC3caj3wnhSvh96iuw76TPoZkisDkIH+QfcooiEZoTPhVhH1kSxRCdSxGKPYy/HsCfv2fExyg/epSkpVKkfakXTUweSML5keWVez13OdDlcdWT7qmH/5GOE45cSDIqni3JNzpa6n7pSJnsmHz37/890XNCurqplqEmunLjpeaqkXvZJ3danB+/qDRpmmo83zt+xvX75DaA1sa20ndgTca7yPemD3sPTRxGOJJ5TuyqfjPZy99n0H+68/fztAGJR74TBEfXlkuObVvZGB11OjC29Wx6G32AnMO8wkmFye+jQ9OvP0ffOH8o+ZsxGfrD9LzWHn3sw3L2R98fgq8fXLt5bFtCWj75jvnT9Sfmr+XFi+sOKxSlhtXCP/ovt1bd19Y/6jAxUVNq8PiNYAAPTo+vpXUQCwBQCs5a+vr5Svr6+dh5ONEQDuhm19T9q8axgBOMu1gfqufPn87285W9+a/pHH/LsFmzfRplb4Jtps4VsJ/BdG1t/PeYP3zgAAAFZlWElmTU0AKgAAAAgAAYdpAAQAAAABAAAAGgAAAAAAA5KGAAcAAAASAAAARKACAAQAAAABAAAAQqADAAQAAAABAAAAVgAAAABBU0NJSQAAAFNjcmVlbnNob3QwJkFcAAAB1GlUWHRYTUw6Y29tLmFkb2JlLnhtcAAAAAAAPHg6eG1wbWV0YSB4bWxuczp4PSJhZG9iZTpuczptZXRhLyIgeDp4bXB0az0iWE1QIENvcmUgNS40LjAiPgogICA8cmRmOlJERiB4bWxuczpyZGY9Imh0dHA6Ly93d3cudzMub3JnLzE5OTkvMDIvMjItcmRmLXN5bnRheC1ucyMiPgogICAgICA8cmRmOkRlc2NyaXB0aW9uIHJkZjphYm91dD0iIgogICAgICAgICAgICB4bWxuczpleGlmPSJodHRwOi8vbnMuYWRvYmUuY29tL2V4aWYvMS4wLyI+CiAgICAgICAgIDxleGlmOlBpeGVsWERpbWVuc2lvbj42NjwvZXhpZjpQaXhlbFhEaW1lbnNpb24+CiAgICAgICAgIDxleGlmOlVzZXJDb21tZW50PlNjcmVlbnNob3Q8L2V4aWY6VXNlckNvbW1lbnQ+CiAgICAgICAgIDxleGlmOlBpeGVsWURpbWVuc2lvbj44NjwvZXhpZjpQaXhlbFlEaW1lbnNpb24+CiAgICAgIDwvcmRmOkRlc2NyaXB0aW9uPgogICA8L3JkZjpSREY+CjwveDp4bXBtZXRhPgpSpQcJAAAxAElEQVR4AW2caZBlV5Hf8+1b7Xt19b5IPd0toUY7IAQywyJAgMFMEANeJmbsMB8c9jd/ccR8mMAxdjg89sRMOHAQARPMjBkGLECDkAQSixBSCyQhJLV6X6q6u/ZX9fb9+ffP8251E+Nb9d4996yZeTLzZOY598V+95f9fr9nZn0+MTMl43x0xaIE6T7lccpVLaqrJFn+pbvKEiS6tIt1e9YlnU7Hrfmb39jy41+2jZefsX55wxLxlPXjSTrUAH3rUjeeiPMYtySD9Lttq5VLlshkrbDvNhs+dr+l5/abjUxa+q6HLDO725IOCGNx15i6lI7gUHEPZBLc+wwjvHTFKFCZLs/TM59YRAh/COUWU+v/z+WDDEaKcVcbjaysnY86jjEEBNBA64//jS3/1Zesu3nDUrm8JVIZi0HhVrNpPWYgRkeaiW6na4lEGDiZTJEe1Ok0SCctOblguQPHLLvvsOXf/3uW2XvUkiIiIwdyMpgQ4qYJ6HKP80U3jniPPCeC7qEq44d6qpB0ZCjQxbPXEh5KC1m1iup4nupwidoqExCqx/yG9kI/GbfKtWVb+j9/bqvf+bKlQDQDEdptEO42fOZ7vS5cMGglQOCGPp32+avWmpbOZCyTTltL/amsuGwlPuVLb1hhc8OmP/1FS+w/anGKxQmCRSAJHgHiJOVBBNCz3/hS1egShytDeYLEr0FeyKUDPesruodaN7+dq73w5iDdPrOaSdjiD5+0i3/5n6yz+Lal4YAeIzYbdUsx4334tAfCEgWnMH0gnHBEh3zmV6LR61il3LI6hMqkk9Zqd6wwVLAMg7Yrm1Y89Ywl80OW/uy/t8TUjCU7wibmnBBNmkBzsRB1fIzAKSKUEI9EJB6aIvZUimaecm/keWrB5Y1C0uv9o/qqo0rIeSqXsOVTL9rZ//YfrH/jgqUyuUBIiQA9Sef4WKQTCLYTA/6M0YE/U9hDRGL8iU6tZsMq1Zo1EaNiccuqpGPUT7TqtvLzH9jGz58IYws+8EgAR1J3PQpBwcWluzgYMPwjpFwseI7Ew9Ed1B8ASeVBY+9F6VsS6jQq3xkIpuwhDpe/93/t9B//gSVKa5ZMpQAmEMBZEEh74mH+4/EE5RnrMtPdTitwA4RUoXSGII9DtSR9dtpda7U61qw3batYsu3tsnVbTevXy1Z66yVrLy8yB/QNRoJLCHeU1lB8hCg9OmGi2feyAU6CTeU7oqFOvCfd1FilXAO4Bg/hJuqp054SIJvKxK10fdnOf/lL1ltf5DlrvVabtuKCOLPLJ+nzxN0bgVgdfdGhORygAbkkMgkGlKho3Ewy6RzSok4f1pcOqUOQDuUptEFz5bo1N1bMxudBJuGrmkRWHBV69G538FFepDClUISiyC9cdkRDA+ujUr9Fz2QJBS1R6kiNHKVBvT4F7ZbZua/8F+sun7NUOuMAAzcEiDGriADQJeECrQRKa4ROpw2SEKs7IATIxSFqDw6JdVvWbzcsbR0bSpnlGBTV46tZF6I06g2r1epWghBbZ161fqeOyEBUuEoc4bM8gFc0FrMJdhFBH3GJPrqie9JnVjlqqIpK33KpXHlajrwMPHxp0gOjxkDu3Df+t618/69YMRMg2PEZTpGfYEbFMXFxhmZVTehFHGJwiHRGF2KwJpBLCevdKHomjkLt0PdwLmnNNgqyn6Q8Zqso0FILxSqYRDBgqF1+28pvvGgjd7yX9kmQZjz+VMbQtOKjNG00vkunEly6OWG4JzVzXmlQUQ29te5cKo+oFnJCsWYPNW7rv37dlv7mz3z2VVEsphkRsm4b8CCW1touZJIiCkirvUQj1mdFyKRscihnC6N5WxjPoSTbNj6Ss5F82q5t1uzaVt3aKNF4fNtyja5tNTrWkqgsX7L61XnbmttjiflDlpvehx6Cy2SrAB7/PqZwEo66nCG5+7PymAylk6qsS1QLJBqkeaSOZ0WsJk4QYURF6XY42JYe/4rZ9jqIJ9HabWYERBlNxpIaJ2UMwdYZvoZZCoX0UD7rrJyil8nhjM1NjtjhXZM2XiAHOUunkjaSRZToZ7lYt3PLJbtWLDvyie2K65LVWsc5svbrn/kYjZk9lh4Zx5ItMG7AKhCAb+AQ+f2PtHB1IunuZcAppPj3S3c9K0OVJRaeR1oJEUR3zXByKM56fspWn38CxJkdybzPMjOnIaGiVBZ8YZOFrH34niO2e3zIpoeyNjOWsxRKcziXttnxguXQK8lEillv+VLZRW90WFGaKFxNR6XZQgEnrY7Y1dtta8AxWw0sU00vY7bfftFquYwNjY2bHX8IXQGRfGaBQyLJJPUxl7WuSOkKe3FoQlylR0ZxHe4zDYLCU+2FvL509/70zKVyXVJ4narZxb//ivUrW5ZiqZSZ7CsADQIB+AaILMr04/ccso/edwikRy2P3pDNMAJxsinxnI/q924vaZ1UGsD6VsdW0ApRqDVsYjhniXTPmhAoRXkbIq2UmtZiAjIQMa/xr5+3+mvPWWxmr6Um91kcogW8ED/NygD6PmlflQbICT8p/+StJqizi5pEGJO+9VK5EM7kYNmXX7F1jJoMClIIh85Z1iBSHwuzg1YaAdHPPnjEPnX/IZsZH7YhZi2NEs2mU6wmAK+5cAXFnTFlO6QwrTusAMkOokFmBk4YRn9YvGkLU6NwRw/2T2OlshJBgEQq4ZxYv3HVYmdesezt95iNzvskwhr0ECbEceIL8P0SHcQhcbEEl/saSupZdBNAulwvKBFxBkn3DABcjmPr+kXrV7d9BrOpmKWyGbcE+8xaEk01hNP1aQjwe+89hijACVk8SeqIUC5/LKvS8jsuow8UBktioMjP6OKbjBS6Bu6ud1q9Gsto3HVIEs6S4LRbLTegZFBtXT5nI0uY9UfutlZuhGG0YrF6DZS1O148izg9iCLF7qLC2ElRSrrA2YiORQf/aLKU1oMSuqTx8Rea2z1bfubvaYQ+YJ2XhlaZ/IJRZrsAYd53Yq997uETNjkyyuylvCxNWUxLqq6IIBogGgSABaRsghSLfy6L8oxlrcaK0QLAieGe7ZrK2fiNrOuYJpl9ZqwDHLIuW+urtn3htOUerFo/lWditT4BPJ6ZJrbPOH15aY4h2gtOTkgpQpyk7PPocnjUIMqI7iKGPlyaxPrGhpUunzUElrp9ayGPWjUmUYQLEzm7bWHcHrn7sI2NDFmSmU3DCQlYvp8vQEg60EDiURSsa1V16pBqADgGhQiLWSILQeo1E0oNgJIlOzPRs8Pz43ZmaR2FWWcFkSiqO4wpiNVHf8STmGL00WesHogGi1WWp2yU0A8lTL7IThu+kuIEFwnuToEBwk4U5XlNJcLlOAB0TGuiQ0A+nY+NjaAvoD+zc3BuwqaGiT0w+2mWylQ+rwiNdbLDlizAsvzRhJmHw1j3rdPkgRyQFyG61QoS07F2r2GdOGt0HzGpGR5pE52QtKMH5uzq6pZdXrssLePs7XENeo3h7seYoG6vSZcaR5+gIBNQAYFgXJS9CM7VYVyZ+L5qeI6+IiKQdECVpYTulDn3sDJJjmIou2h57Wm5ol4deR2dGrYTe2YsKw4A6CIOUiWFPxJH8zcAoltHYaYtMzxtiaEZGALQGmVLtsEUtNqqXyvb6uaaXV1fsRvrOFrlOq44NkoTQ6reRekW7ODuWUu+gkHVhL1BSu59MpO2/KHj1hRy4pC4OA5ugyBdOFDc68/c4Re8X02mxJG2YgvHlS9NsOikj/KlXFSmsBj9OvXj4JzIDVlufAp2FS/iSQLIZrFoM8Npe/+d+21ipGDbWIDXQGYN17mEzJeR581NlsRG1Q7Oj9l9Jw7a0YO32+TMLogM+9ZqcBN2RGPbLly+YE+/+Ib99NWLVqwxW3DWzDhW59QIYoNP0a/ant277MT+OXv+jSWLQwBZlOkRiLPvGEoW3QUyIoZWMCcBuIhDejHBzOpEWvj6xfiKdgWRpWJ0iQiRaChb9fUsK0xcowGiCvIWVaeGI5QbSdneqTGrdRN2baOIY0QsAUVUR+2Xitu2vbFlrUbN1nCSVsczNo8nNdLctiTs3GFQGVF1Ai91iJoFscOY3NMHR+0QHDY7OcZymbDNcs1Wt2vWTmTt/fcdt9OLG7ZRaVsCrkwTy4xhXcake+DYgCmaAETdewXznmOPl8sEutfruikSDRD0pWWAKHg52wtDZekSsiwGfk/mcpaZnPWBXDahkBRSVmv+yDCcErfx0WE7snuSFQTWRKk12uO2dGPVrt3YZPmLW77asPpm0aoYVxmbdJ3TqVdta23F1paWLVZp2PzYmDX7OXvp9ArL8SpeaM8O7J5AWU7bOs7YEKJ1cNeErb193Tkgu/8Y+mjEzXTBpSUyUsZSlNIWIkTQy4gEcMr+kfy7r6ECybvauQrhHhFACdWVUvK5R6aSOFujd7/f1p57HBGDDZl1dbh315QVWCl6rTgrCIqyVbU3Tp+1X98o2ZVKz8q1ls2gNw8XYlicdRvKlG0eazM5NGRxQm/tRoVIVNE2ilUQmrD06Iy9dHbV3rpYsXc/fKfNYsh945kf2xc+dI/tPjBtpRgr1P4Fe+XcDbc79h04YC2PPIc4ByasxzecC0BWBpbUpT5aOlPArZVGMQbh74gKYbG+xCJCXgRQuS4RKeiM0Gju5IOWmZpD7bZcR8SwMKeYwTSaf34ia1P5uJ09d8W+/6tLduSDj9pmatQurjftgc980u5/9FGbJdY4Pjnu5jpRGrimZmkGyKBIZ2ambWFuzj782KP2gYfeYdOJlj2we8TePVuw9999m01DvHFsll2ojNsPzLvl+a7bZu2flX5uc+Ul69GH4Hb4tTKRkHsuo0tx0WAJS3/AFUKaMi2CfgU3WbM+QJ5yIe8XdxFUhRHXZIbHEYMRa6yCAx0WCnkr5IdxoJI2jkOWRLufOHrQRpHZ+UTZesenbH3C7H4r2zCxzM6hvXiibThDsio7ArM5m8doGrIa7JceglOunLN3F/p212cftFysAgIxO/7wSUe802tZgxj3wdkRN9/vPTRr78mVrVg6bVeG8ETRGR04wCccwBMemlekQvpN6jOFRYoVrGUUQgFBuKKEcHf8Va4ivkSsnXzSCm7kUVx/eO8BWx0q2ss3KrApbvZw1vLoiSG8ygysPjUza/t316yyXbJP37Fg3dtnUaBNj0WOjRGuh/0yGD2xNL5ELG2WHaKPIRvD24wnIJJhTCEOM+lJIl8pivOIZXDw2tgC3XYf7hvGyBqzHEvb3NSkHemig7BBXOEz0zEZUa4UgpUp61KKUuIhrFxHkIrwJ+mECRSkjouU5waCCHkRRB/MHztWv2GfP5Cz/In32nffXLI/e/o1OCGPQ8XMYndnWGJlHGVBLg3ntHGb5V6PAgjmDDMBm2I6xNMYUd4xX+khCDhquUzViTWSg1AywlI5X/PjWD1CUP005J1iWwxl+zaNMbdVrWMcQUugi1PuYsxMy36UQaWol+sHiYlzh+AgD/2gur9FCBcFMnXpJvh00ZYm4VJ3ko/d9WUbZ4UaZzYOz1dgNNJSlM52XoUcehEBcbgSGEEyXrwzZpc9PSwwrD8pN0GiCzHJIB7ZDJtB6J40q1O2IIJSB/cb11RcbckmhGJ5Za5xIzCwcOmrpSJhvbqto0A79JmCKzS8yADqoXs4oStkyBGuKolLb3D/LUJECAssr0gbNRNBGN/veha3dIgEtXoAgwktbTyESGQAVraAdelWnWktF4XUyP0J3ekNX8DwITyA4h2DoMxrATYghMJ1shZlmnvU1tk7ELKHgSYDqo8zpn2QPAZVgZntAvR6cjgskfSFzekrWjC/1buWTG0ygQ8fqYfgcaDTGH3n8go8uf7gLvhFFMGqtBorR/eV7KT1hkfcjD44N816Pgu7EgQRhbnL+YnJk8mPhcY4Zp5QZ8JH9xjeqBwx+SKjU4yBCY7NMYKekGUoC3GHG3x6eWYvtEeEuwUha7WK1WS2Q4A4Ib46ke2WdA2XkEZFuBkhJdtn9sTNurstQf/SD+IGXzWEvCsW7iyrTi3pAxGAm39pMvyZL99NYoAiy2EzU7DK8pId2LPX7jm214rVKo7jOA4NM9VgDdeapFi69IC4oNUIg4gIDTZ3xyZgnrhtXTprI3PYDtRbvXjOitubtm8aE157GFiSSaSDSDDERc9ABO2J6FOlvFTFuoEjs1kcMzBP9aXBGMZx4AuKszcWkJFckRbhxPLC3cOM1HCOEJKOKHchrUuVpBj4l70RiKL8kA0lcWTR+I1y1YaZjeMLI/bCxW33KUbQ4E3sghw+QixZCp1pZZCciDggo/mpra7Zr89essVK0+44XCS81rYX3zhv5XrbHjxSYVkcs/wEIgB3dZs1mIHALYRtsAVYgZA1nLAqxluVIwTHWEZTOXSR7IQBnNxIB8xkRg14wjlBhAorZ9AXHpgJDQIxlFZTJ5oeuCQKevZrQBRZcH1mMIn9sA2LDnMvbi3Z+nbbEAbIBJVhcxlJfokz1AYOiDEzccSqjf+xa/8+2zsxCTexBG9t2KGjB2BzYgrohqGZCdxuWX94nohWk2W1DdHL+DXbmOASRSx1LMS+7ZufcKTbiIbP+ABoEcW9Zlfi0l1CQETRX8BVkx1CdQNYJVM7+oFazJ1fzh2k1FAUVsMqS9pmfNQWCJ1hTlq8eAWZLdnVtaLNZZmdBI4NJo/WtLQ0vjphK1Az0WuVbatStEts8p5fJshz6Rp1MMQI61+8vmnLcMoBgi/NdMz29ls2NTSCAYuYKFKF3qgT3W7g8jdIr5fk1vdR1gSAmIyN/MAHAkZZlNEECm5pBJf/QabjRVp/2jwOlBkQg8edZ0mUANelYhFAebLOGhDg3NARe0ftTReR44cXbM+ZVVvGMyzNYTvgcbqjg+YXZ2i3q8OSePHqqp27fBVC6JgAHmihYHdODjuh5LOcPHbQrsyM2ZXtop29sWyn3r5ox3bP2J27Zlx5NuGWJpyg8F0de2Gz1raJfAYxZMkkor2VGgP5ALS+b/1IBwoRLaFS6lrAImQ9iOvEoIUIpXR0Ke3EG2TuPFNLTsor43ehMBEEgrhxWP/gzLitEUTZhghlAK5qFuXoiPT8Ly0v2/eePWVXl1ZsgWX3DgyheZbV4XbMxgjlaxerRxRqkhjnbSNjdmC0wKZP0i6Ka+rsmjMBLcREHFFEr6yUJCJNOzSctFnimy9kjtnF1DTiyPLKeEJG8GvypDL7ZGq1ch6IlKHyKd9ZPge4eqa+XJSooEqDPoNZQkdar5N0ejkzYz8decA+ufmUxUZH7PjMkL24SAAVZVdAYRJOxZ/IWo7ZSyN3OZTZAo7W2lrJLqNYt2N1y/fZ+cJwkrnQxnbQ3sXVrU1bRGeUUZ6HD03bUWKgiji30RO1BkSAKOVWj6BNw27gpj+75wP20sicvTJy1NpMu6LWQl4Ia6mUUEigpa7cvnRk9RWWTxncHpihljcUxlohxEFCXp3p8mcypD+UVmFkpHx97qN2jVm4rXLWfnXgQVs//z27tr5thfSw97WNYsvCsolCzoazOTuxd8ESe3YZroQNY0fMDE8SssONRGzUcR0izK+t2i7OPyTY+xwdYi+E6crg25ThtlKjhTndQkl2bZXtwNLcSbt84jEi2W3LyMDz5ZKunJUFLAiJIxEXrZ6KW+pYgW9IobxFDlUNESoegoHjOPoS6hVEDS7nImUMLj2rSKJI/Nq+N/Og2eT9GProg6WSLb/xbZsitCajSIQrZNEH9TSmRNYOLsxaNp+zNkGY1ZU1e7t4GaOEXWwUX4L6VUJ5HYDdPT/kJrtsgxrLpU7NSNQqLJk6KVRGTyxXOS8xewQCYI4TAA7begFIRbVdCQhIh1d3OEBpPr6SMJ6vMNJjogZVHGBxgy7KvXGEcERU6QVVHqxAqurthrQ0UoBoWv3Qvbb+1tNs3mJCD6GNYPUCS2A2nbA8g6XZ54jBGdLSw1M9u7Rx2X70y9MEV5awKAv28B0H7P6j8zaFAtUuVltheQK025UqYbomYbmGK8iV7boV0+PWnph3fyPasJFukE4KRpMgFPtLMBAQEYVnP8DiKeVK9Q8MKhcBEYR6mkHFJijbuZQvBatsJ7QSg/rSxKwP5DMAhIjP7rMb+d02tPIq5pOCrX3LQWEdA5pEtsY4FKaIcgLHahTF8MBdRKTnZ22F7f8k/sr0RMZGMoofsJHE0tnAdlgtVWxpZduK5YYV4Yil7ZZdWS7a9u9oe2/aiS332s1lIQ7ACQEGjK4Ygd9VonwXEcl3gCmDMM4I1FOA2hGUWa2Zdu1J2iuoUOXqkLTqiBCilrhF+f7MnSfXyik2eep3f8TO/u2LsF/RSsQTquiJdSzQBe6HsDZHASbO3kMP46iKRZQiVHdwegGrG7G6dtWWcaULrCrapLmOXXJ2cdPWNquIDbvgcMe1jYqtJKcI9jzMkplnXAK0ENnBFaICR/AIIS4pWo9f6tmR0eSRFE7cpSncoPIOVMBHX25SK1MEpAV9ewP1ERFAVXe4RnUpEwgxOGD45EO2ceo99spL37T9xDFXt8o2S0S6ypIqnwApd1ugzQwl2JojOkG7qjUqFbu+Wbb14gb9sX9K3esgffF6CcOpil/Rso2aDoqwCn3iU5ZaOIIVyhKt4eFI7YQFoIDDkdGzLs18WDvCHf5wXMQvAh7R2KnvBY6PI+7NqRN1KAqKW5zjokbclRShoktrdQdKHnnfo1Y6+4ydub5tk3DFNkvdBk7ZBnftT0wRzZLS66G96rB7v6djR6wE7IVUdPaBWW7BgqslwveIjcRim/BfA2IePXrUKre/w7bRPxpa6ISLJ4dFgsAfgAlhTZDSfoTJYR5wD/khNdAR6sSJyT10HLp15egdBYRDbkA8IpDyorS35cF10tSCffKhu+zVN8/ai+evsxfRttFiyi6vlm3f3LgdXiCACaI1dIBO2tbZAJKNoNVB4f4mRFnZqsBNuNakW+yMKwT48LF523to3p4VCkLUARBMpJ3fA1ECEVQqzAZ54RbEQnBS4jEPUkmxVYr6ylQ/oqCWFiHnCEVlEpNBWnV1+XP0ELI8T+3lohdGx+yxu/cw+ymi2RdsEUNKR4jWQO7yClEtENbWv9b0LkTpMcMCu4bhVCK20IAw8hd0uubA7KidPDht+yZw/enDFSPcJ1Ftu0MHYqQZOiABRnKx3ecj348ACEsQVD1hrJvjyT0pIqi1iKBOQ09UcOqGZyGs3XTvwDuhGnk+sNqHamSERIe6rOw4YxkbJw7xkXvY3tszac+/tcTO1LrvbyyvbFGZQyc4W2ksJi1iOmqsjSKdw2LnlN10ji9Ta3Ikb+84OGO7IcKwDrvLegQAh4e7iOchOBSmw8Tzzp20AJMQiDv6cjBo7235kn8jRZr0pdIrBzyEiwZ3ZSICkaGlU5c0rC5fSskXMW691FYjiJOaeJzNZNYyzHQORTnBWalDe8bt3NKmXWEpVEhPh9TFwn5GG53QQDfoWGGHIIzGalCu1eXgrjHbNzmE2Y5+h2tkXsexIrVk6dy2jhqIC6WfpAyFk/rV5fYDd7SQ11Gew6mELuppufXzEWpD+8ARXnizsrqTNtZAEUGca6ivNoPqO50rT7Z7Qq53gqMBUFLnL/sEZseHY3biQML2EkQRO+s8VBLktCmLGkA/oCPwVLdLZStDlCaspcMik5yhGiaMn4AITYhQSHTsWKFjz+Oc9VG0PRw79aEJdFEQrAAivDw0R75Ew/N82RMm4gohEcp23HAhpEtljpUoQFqGhrKiS2kV3XpF5crXTLSh2u39Btt7RKXKsDE9SPG6q8vsxXPS5rjNiEWST1yRLDZ5uiCuyFYxl2KFYKMXrlHf4hiZwDq+rIMhac5L3Jdr2y9eftpaR9/tB8FcZ1BH4+uYgJD0pdLFQOMrT+IxwIBbBHcQnEFGlOkG0gBT5UUKk+RvXaK2Lqc6ad39ZH0+ZqUXnrbdl160LGekdXolAXsrfpnRESIIkcb1zoBcmuckUeUkQGaZ8QJ2g/wTIT7CKRudydROlA6OpViSdYhMAZwkfd5+4qQtLL5mWz/7nke7JCZxfSK4gC0QI5r5YFQJJ+mECF8/ZQeXqK3Lo2RSyEQVnIOEoHd4M59HBtB3uJTWo84hJIfxEF9/zVa/9iXbhUznFg7jFuvYEAjhaifhkAwHSLIQRcwpdkyCpMs3MYY2wV2dxk2LSIiTFFkWRTqGeIxwIm9Yp2/Q4qNH7rOJPfvtPb/7YSt9/+tWfeFJTsoQIBaCYQ3dwQO0XU840JRLdJxW4o4B7FK8vlBItpwQ3CMknSiquNOQQi7l61K+iOgHwWmd4Az15k+esnN/8oeWgr0nJic423DEuvvuRTESsZaM44qnx4bZtGETR8QAaJ21oCsA4EgiNoWuONMKI0AQzmPCJWMEaIZHOY/Fyd72+GGbe+iTnPqt2x333Gvz83N242t/apUnvgJQKD64xhWo4HRrKtgaEXcIYx2Q9zGdJDorMSCELMYdE5MOxF6quEMM0rqcBl7Ag9gQaseysFWBgyHf+F924b/+O2tgHo9OTXPMOM/WH0vgPY9ZZe4+ItA1ZJdxWFKzbAFmcL500AxJAWmnKP0JeTgEAiT55CGezmYVOHPBG14cQRqzsff9K44djbIz0MBDnbXDx0/4Qfjtp//O1r/6JxbbuE74f8R6tB2YW4wLjJo5uEmiLsR16duPSlN28yw2uZoF1Zf61U1foUl41lE8hdOFUZx9SeXWl67Z0t/9D1t78m/Z2uMgFx0U2LTJIQpSdhmMpvQ7H7PSmXEbuv6870rF2bpLE6uUzeCTpuWSgItmS55hAnM7xakbvdaQxWUnlm/V+JgV3vvPLTO/lz0Njv1CmizxjcnJKfczEhhw1ddesPbSecvf/Yhl7n7Y8gfvhPI5uJalFm6CzDSTMaYLMgln4CVSGOwIIavZiLAWcE6QARXkmGiPUGcaE8QYepyO33r1V4jC47b5i6etvcYs5DRr4QCGFJDaaxdaFmOaGc/hKdaGJq17/ikr9CpscqEzxKJEwHviApbDON5mmvBcmyVUGzmuzdnZqidGLHv/Fyw1sz8QgRUHhgkIoWg1IfJAk0xEl4MmxX/4utmPH7eh4/faEGKUu+Nd1isQ38CMls3gBKcN4DniCuyxcAX9INFQ/q0f2QN+mAJAYxz86FTbnJJ52jZ+8HWrnH7VWpUSBJYiHHZAtJ6LzesgUieuOIVsy58QMXROtnDghDWJH2y99X3Lb59nA4ytvi4sDKeJk+QKt9ETMS2bQhBOqSdHLfFOXm+c28/OFwdKIAKDcSesJ6MM5Hy5FD3QM33YOsE5jS7Kd/sXP7LSK89b7rY7bezhT9jwfR+y5MSC67YY0S6Z71rSZUWLDsGrhAJiABFCO8xK9TFnkxz4am5Vbfunz9g6BNh6/SU6AGhFmUDEYwEoyyCPUnI4TBChCtCx2ITPgNb2Hm0047mJWWvf+zkI+ZwlFp+3LFAk2AAO72RBCDDTpPXhhFaPzZq7HmP1OUKfYedcekljtSFuE8tTof1gNwCxVgLtgkMof4eUMxrCuvbmr6z65inL/sPXbPSBD1sBgmT2n2DDmWgZ+yMiuMcjPGAD66sDsWkS5SeFWeXwV+nUU7b13LesdO41AimwUFbb+yI+Mwe59BURwVmZpU9v8ZSqnFYBec222/O00foQgxgypDInP2Ll6YNWOv2kpbevuq3hPr5MTNq3s+xyEZTN7r3DN3d8bXF55fQdyHl0kJnUDlgcOfGxBQ8TId3jVYGsI0JzLEHHD1pLl21FL9k88VUrHLvXht/1Mcvf80FO4+1BRzj56ZGYYpzZ77FhUuSVxeJPvmPV139h9dVr6h4Njwhg2YlY8gWcCOT7bDOwlI7OUUnj9yBSHc9RcYBwcYfQmsuojz7RqcKu26w9hfK7cMra537ihpPi+v3JeUvd8UEbmmbXinY13rHWRq/ER0Tgn8g2iDGD9XLRh9BIgoUhnChKiFNElIgwWrH66h+uK5961kovP0tw54CNP/gR4GJfts/bMr1NYoI/fMqKz33bKm+/Asvwxi4bt0n2JRQR1kCSKe9UaTKigf3OoFKOIkaTUHyV85J6r9PFmbpSpIJT8UplptFOBRRTi/OSq9N322Z/v2/mNHUGE1G8duoGB1c3bNeo2ZHbb/O3fmpsHNWISKkvHXBf52TuyuIFRyKCS4AyjBONG8swHMrEaUyN75wCnEkdXKFyd/maLX/jf8IRnDRZ/863bfvH37LGlTMUgRDUiQ3knynwxv6KEqX+PrdG84+GEuUxk+UBwn6atXp5y65fuQgHPBiIp9rkh70Ejiayxm9zIveJ7z5tF69s2PyRe2xieoKd8y30yA3Ec8rG9h23M2+8bl/54z+1o3ccsuP33WX33He/TcxxuhYCixBXL1+y9RXeOWffU68rOAGYEL2gL7ikrzxuqZWT8QW1Twhl8IkyndMTmXFLnv2Pn7bG0gVHPiHWEd/h4gZ2oin/vuQwint5NFenCqWpTF3GOe9MFoOiNHXIC7m9euk8kSU2ZihAr7lNkIfz6hDgm999yn7wzSds+fR5qyFKe/c8xznLPNKJvKNTkkMTNj6739auX7dyaZu6j9u3n3jGPv65P7IHPvQx3gRK2J6FlN2gvIWXmoawDozQE/cy47pLkUpfiSsksg66gx9EXKIrkdYEJdsr1zjciXYV+6DItLZq9oJjEho76yuJ8tMAWiKloBVR0qWjwU4S5DmpNR62v3L2LcSjZqO8tqA+S7jWp15ZtGd/+KJ988v/3aYwuHbN77ZxgFhdI1hrG/gRMjNxzWNlO/Piq7a8eR0Kpu29n//X9shj/9Rm5iY5oK4ALtU2zc5dWESpg45YXvyghCChzxYcos2hNJMrQpCpGtRTTZFACEnkQYQkjhwGDRzgHamiT21owCPtA4sJUS3tPLJ2i9c0y3iUOFFOIwFEIuiTmK3cWLTllWWMwlH7zelFW1zmrGW8YMfe86h9ITdqz3z1L2xzfZnXGDiZhy2ik/xpvNRUqkBAhkAtoX0pw0c+83n7l1/8I/QFB8/xL2bYFC4Qu1TZxo11uJQJxGLcQQ8YtIzm4TBNmj6C3WeOmzhYcHqeKEMOlgfEh8UlN44hNYSov7WvOoMr1OcbiismEGPPUtTWO97eKWP5rKg9/cm2r6F7fvXaWTt+5zvt4IG9du/JAmenefMfg+nk0U/55vC3/uI/W0s/mIFvkOdgeoajiA0MnW04YXNzw97z0cfs9//NH2DnYDViZqfwREsoTEWiGli34kghquPEmltNWoSkiKFT/RIN1Yk2c4SST7bj5hQhJYNPlbw00EKZ4Tkwj553WM4bw5bIm377weULoG69NEiCGW6gC8ZTNfvAyRlUDpEnlK6O/MgVSvGawSOf/KBtbazYD77259ZK1i2HCaxXHhvNLdviDFWGYwGPfOIxP4mjyLZ+hUSwdKQIEVG649IRQzG39JBnOJFcFjWjXHonQ0pTRNMrT0oLxmB8CbegJ5wZhLmaiZoiglfyHElT6DCUq4Poo4p8dGkm/KZadOkD9+3alYuYwXqhRRFDDo96UCXB6ZYE4baWfez3P2t3vvfjrCBVZJrTNUxKg1M0VQ6PnmCFuOPud4IYrM/sarWqEvLv+e+2CEGyUc4BYB/V50sIiTsdaibJzWitHkAm7qAjL6djuh0QgXImlYaDP1FCROBfyTAIN2c/KVMu7SlKDzjB1bsTIQyutGQQaEl2bWnxKtt0LGsolw5TqOoeaZJHKuMe8/UT//aLtufInVbaJqDLjrZiFxr6+F132TQbwSKAkxkukIOqeWd492r77lFSOwJGbjbIuZhSzy/K9IaRE1QZXl310AzUldElLuEVbSpqsAFCUoDBdg8yp3z/wJLuggtKMIJWfomIygBOZ1HNiMihfpYhRBEEW4SFWs7LNKQ/vfjKfi+/BBDjrPa0/ZPP/gtO0C3I2vLXmnIEcI4eOwZRqK7gL4aXiCFbRnaBhJn353Gs2HEfTAYVqCy7QYTTGU0OoJHWJApW36Rmdt0CBlZxirfhS4SCGAOKcNfl54+EG4NF3OLsJkDEWgJWZfSjj+bIWdGBFLhhMCmqleXrVuRgmMRavyzk5jzANDkLkWbJHZVLD/d0mZkuUeLE+DieIy+eYNDpJVuymRTceBS0kBdS4kb9MhHqmohW1WEUGG7oUVfWrE7i/c49++2xz/BeB1sImsgB1kIrfLgpLzDAYGLlFIkOMpFFTV1KRyEtrwwCoUMZUOpDoOnu36F/UVx9QBSt3eWtLbty5QrHgTQ2QFJeZ5NYzKF50ruadfj99As/tXJx3eKsGAKphRH1syefdEgUv8TO9fZ6PVGjyl9pcu6yUuIM5wAuiTQg4aB1PLR39J3H7cCde+3QyUMBWeFI3QAzYEMcpw89KtPZICDofQ4qDGY9NAucQSdqKe0rOfQijayOANllE9ZwVqRukkh1E6vvyqWLVm7G2NgVcSSTDEp5g/0J8c/60g27fvo3RJty1qCrBHZBhpjm6794ya5dvcrpGoKyzLQQELACIwW36XeqKhDMf6eGfIfBic2PF2yUbOPCkhWvV2yRfVdxiy5neoGuzpzMId/7FuAynWVGO3sxpBSiCv3ZW6k1GaSbCC41VcpdHmHoWMW6nNJKkKHXCS6dO4OFybEe0BDyIoLPLONqs3fj0jlWDHKwABFsfhqhb1MsncW1NTv9y5c9fB/ZAE5/iI0D6XZGlWME0meaIF8dGFbPItvPfvSq/fVfft8u8wpFmqVeB+DF+eIJdxkEIxdNqR8mXo/hwy3gS3UAVjMBLgB0D2+7hMZhPfauvCOfNeqIMiKAPqpz7szbVsQ40otvUnZ6eZ7NKZQphIFjFs9f4v1vArnMshRchsOqORw+ieXlN990vSSdoPEFnQLCRAw4mbfhP7ESIA/iOmB8r6uffVL0TD/mtTPB9BmJviB3cINMaGsRg0PyIyKoVy631JgxEUj1tFUmZ0jEF3F89Qgkcw5wmoqz/KOlU2ksTJCTd9isrvuOls4/yLASMUSI1eVN21xecX8gj7uvl1imMKw66IUh0iscOK0QqJUBp1kGTF92RZL11VV/Kf9W5T5QVz7LgkUICVnB62QccI7w3NERwlv4+7JCxzz6v+sL+hD73/yoQylUyMDs+K8FUep/dK42Ct+plX9Iqq3qNjgvuUFwlzgR4TVt7EpPIFRwx+VL13HG2BXHe1TsI8sOlk705hxj0uiBFuyPf+4IpVluPfDDKOsbrEYD20aTM/inhKRAEXSaS65o6XTYBsTwggHsShOevBlv9A5UiBQ7QZxyNCePL79rVVDacXY6C3keRWZ9lB6Uy/zVj2otXjiHVSjLkFgjwMkjrvDS6vLyFk5Z238II07ESXHZDCytcIBeWeiw3PR5K2coz6lciIAX72yvyV5HNASLRMaH1dCOgFMhokYAk29Nol/U84mjE8+5iVfUEb3Dzr4sanbdLiAPsnqcQVYb2WJpRnfWV0dCVozrnTsdBsSgTCSVEjt7+oytbPDCibw8uEHB4TKriN7Y1SqBpLgHKiWaQ67ZG8QpyyFGHd6CrPKOl/Y+RUBEirGbOFxrKFPnUCHCH02FoY/qaVKCV3ApW5ZkuFQxXCpTrp8HlfXlzQcNVMU78O5DmRPaC1QoOmADwEnRJbFQZ7qksz2tZ4iptmsri5y65XdiFLTFIqzqzBT5PX4CQIc+5N7rx/mIHPAGDi60XHt0Rgq/ooFlKiZ0IElI3LbxRTY2CAWCnI8aEAh1VFXjChgNPoDBuwggku2lTiAHk6ryZpxqGkA9uR8B23jVgdyHwUI9jezK0weHY/wajECvahdWHNGMZ7R2tbiCW77JaoBrzMwS12WW5fgGsdQ2H2BodGd1tCNE47QMFqZ+Z4Ymgz7pEaot3uD9zk3CepplH3owfsAvQCQM+ShcoJn3a1CuZy2huosmPq5nulMSGihz0Iy2ahDyXQUArTqQLhPGUng3r1ugUA8DkVKQdgN5vn7lEi+3Eh8Q7aiq9zn1xo64RzOYp36T6LfcdI2ZwSDrojRKLLHq2YEloealMv4L74YIjHDBKcLIZ1q1b15aPVTGMH55FXoMtejVx0dfeELOgGAnMyCugIc+A2pGndCVsz3VtYpEVyhWB6EPT4QRfYblYl+5fB75FvFkSBGNgkBVdsS0PagQvX4xROcmmnChXotm8eWZn2TiOKKQd40I9HLlrVNBd5QdGcGr8SJEPa2cASzCKRKFW+GL8lQO0oEQYYrVWLMD8vxJVFQ5LIs+iU5x19IA5OIBKF7XQQkgeMeC20muPpBj+l0imBuplTwnYhIcitC2nOrJktW5BRHJL0XDQVjtahACUB0WQSFxqLPV2ICI3lgwC2nIJXvBd8zIUL83YREw6kWff3ypHm44XiEQirKRKatmLgrctdTp2WWK+05XytRTlCFoBpc6DkCQ55o+bjeuXiHgUkE38Oo0YpEiAJwk6KKDHfJKMafgDA6wi2v4w+CmD37gE0JoVQkEBQ5oVeLoQYfg7E2upIIP718Or0AJIIW8AJM4HGJRsIMPxSJeULsqgJqhobiAXij0u2aBx1uJEw2izuVeh0tyGAgQ+gmAiNCa8ZVri7a6us7PMKWJJaA0QbaG/PcUQ4AATQCUT1BFX/E6GPqCO5yhn1PRPqfGlz5XapMf+5GVenPWb+qAAUUcF1fGDswALtoKNed0pcHRLVBy/x+kZNrwuWCytgAAAABJRU5ErkJggg==)"
      ],
      "metadata": {
        "id": "sR_bdVsqsfpL"
      }
    },
    {
      "cell_type": "markdown",
      "metadata": {
        "id": "EY4oAj08ovz_"
      },
      "source": [
        "\n",
        "# **Dense Fully Connected Network(DFCN)**\n"
      ]
    },
    {
      "cell_type": "markdown",
      "metadata": {
        "id": "goVXuQLBov0B"
      },
      "source": [
        "A beginner's introduction to the fundamentals of deep learning, this demo will walk through the basic steps of building **a toy model** for **classifying handwritten numbers** with accuracies surpassing **95%**. This first model will be a basic **fully-connected** neural network. In a future notebook we will be seeing a deeper network that introduces the concepts of **convolution** and pooling that performs significantly better at this task."
      ]
    },
    {
      "cell_type": "markdown",
      "metadata": {
        "id": "WJTFQ1TEov0C"
      },
      "source": [
        "## **Our task for the AI**\n",
        "\n",
        "*  What we have? *A large corpus of handwritten images and their corresponding labels*\n",
        "*  Our Goal? *Make an AI to automatically learn the patterns and features from the data so that it will be capabale of correctly labelling future handwritten images*\n",
        "*  Dataset source: *Handwritten digits from the MNIST database. 60k Training and 10K test images.*\n",
        "\n",
        "We will use the **Keras Python API** with TensorFlow as the backend.\n",
        "\n",
        "**Why Keras?** *Keras is the most easy to use the library for machine learning for beginners. Being simple helps it to bring machine learning from imaginations to reality. It provides an infrastructure that can be learned in very less time. Using Keras, you will be able to stack layers like experts.*"
      ]
    },
    {
      "cell_type": "markdown",
      "metadata": {
        "id": "-HSEekYCov0C"
      },
      "source": [
        "<img src=\"https://github.com/AviatorMoser/keras-mnist-tutorial/blob/master/mnist.png?raw=1\" >"
      ]
    },
    {
      "cell_type": "markdown",
      "metadata": {
        "id": "Xvb1F4Yrov0D"
      },
      "source": [
        "## **Importing the Necessary Python Modules**\n"
      ]
    },
    {
      "cell_type": "code",
      "execution_count": null,
      "metadata": {
        "id": "JjotXrD6ov0D"
      },
      "outputs": [],
      "source": [
        "import numpy as np                   # Optimized scientific computing library\n",
        "import matplotlib.pyplot as plt      # For plotting\n",
        "import random                        # for generating random numbers\n",
        "from keras import models             # used for loading the saved model\n",
        "\n",
        "from keras.datasets import mnist     # importing the dataset\n",
        "from keras.models import Sequential  # Model type to be used\n",
        "\n",
        "from keras.layers.core import Dense, Dropout, Activation # Types of layers to be used in our model\n",
        "from keras.utils import np_utils                         # NumPy related tools"
      ]
    },
    {
      "cell_type": "markdown",
      "metadata": {
        "id": "s6xsB9L1ov0E"
      },
      "source": [
        "## **Loading Training Data**\n",
        "\n",
        "The MNIST dataset is conveniently bundled within Keras, and we can easily analyze some of its features in Python."
      ]
    },
    {
      "cell_type": "code",
      "execution_count": null,
      "metadata": {
        "id": "flMgYB25ov0F",
        "colab": {
          "base_uri": "https://localhost:8080/"
        },
        "outputId": "27f4b3c2-0f69-4dce-ee6f-bf1239d495d2"
      },
      "outputs": [
        {
          "output_type": "stream",
          "name": "stdout",
          "text": [
            "Downloading data from https://storage.googleapis.com/tensorflow/tf-keras-datasets/mnist.npz\n",
            "11493376/11490434 [==============================] - 0s 0us/step\n",
            "11501568/11490434 [==============================] - 0s 0us/step\n",
            "Printing the shapes for validation. Format for shape : (n_elements, n_rows, n_cols)\n",
            "X_train :  (60000, 28, 28), y_train :  (60000,)\n",
            "X_test  :  (10000, 28, 28), y_test  :  (10000,)\n"
          ]
        }
      ],
      "source": [
        "# The MNIST data is split between 60,000 28 x 28 pixel training images and 10,000 28 x 28 pixel images\n",
        "train_data, test_data = mnist.load_data()\n",
        "X_train, y_train = train_data\n",
        "X_test, y_test = test_data\n",
        "\n",
        "print(\"Printing the shapes for validation. Format for shape : (n_elements, n_rows, n_cols)\")\n",
        "print(f\"X_train :  {X_train.shape}, y_train :  {y_train.shape}\")\n",
        "print(f\"X_test  :  {X_test.shape}, y_test  :  {y_test.shape}\")"
      ]
    },
    {
      "cell_type": "markdown",
      "metadata": {
        "id": "DmY3hJ8Cov0F"
      },
      "source": [
        "**Let us plot some sample images from the training set, using Matplotlib.**"
      ]
    },
    {
      "cell_type": "code",
      "execution_count": null,
      "metadata": {
        "id": "f6Xb1VCwov0G",
        "colab": {
          "base_uri": "https://localhost:8080/",
          "height": 657
        },
        "outputId": "1b3819a1-f705-46a3-eea6-ffb02552fad0"
      },
      "outputs": [
        {
          "output_type": "display_data",
          "data": {
            "text/plain": [
              "<Figure size 648x648 with 9 Axes>"
            ],
            "image/png": "[encoded data removed]"
          },
          "metadata": {
            "needs_background": "light"
          }
        }
      ],
      "source": [
        "plt.rcParams['figure.figsize'] = (9,9) # Changing these values to Make the figures a bit bigger (\"rc\" params are like configuration parameters)\n",
        "\n",
        "#Plotting some 9 samples in a 3x3 grid for data visualization\n",
        "for i in range(9):\n",
        "    plt.subplot(3,3,i+1)\n",
        "    index = random.randint(0, len(X_train)) # random image index in the valid range\n",
        "    plt.imshow(X_train[index], cmap='gray')  # color map -> gray as it is a black and white image\n",
        "    plt.title(f\"Class Label: {y_train[index]}\")\n",
        "\n",
        "plt.tight_layout()"
      ]
    },
    {
      "cell_type": "markdown",
      "metadata": {
        "id": "vYOQ7Xdoov0G"
      },
      "source": [
        "Now that we have visualized how the training samples look like,\n",
        "\n",
        "### **Let's examine a single digit a little closer, and print out the array representing the digit.**"
      ]
    },
    {
      "cell_type": "code",
      "execution_count": null,
      "metadata": {
        "id": "RijN3ogtov0G",
        "colab": {
          "base_uri": "https://localhost:8080/"
        },
        "outputId": "560d7f77-d4c6-4845-e36b-0f3bc4045ff1"
      },
      "outputs": [
        {
          "output_type": "stream",
          "name": "stdout",
          "text": [
            "[[  0   0   0   0   0   0   0   0   0   0   0   0   0   0   0   0   0   0   0   0   0   0   0   0   0   0   0   0]\n",
            " [  0   0   0   0   0   0   0   0   0   0   0   0   0   0   0   0   0   0   0   0   0   0   0   0   0   0   0   0]\n",
            " [  0   0   0   0   0   0   0   0   0   0   0   0   0   0   0   0   0   0   0   0   0   0   0   0   0   0   0   0]\n",
            " [  0   0   0   0   0   0   0   0   0   0   0   0   0   0   0   0   0   0   0   0   0   0   0   0   0   0   0   0]\n",
            " [  0   0   0   0   0   0   0   0   0   0   0   0   0   0   0   0   0   0   0   0   0   0   0   0   0   0   0   0]\n",
            " [  0   0   0   0   0   0   0   0   0   0   0   0   0   0   0   0   0   0   0   0   0   0   0   0   0   0   0   0]\n",
            " [  0   0   0   0   0   0   0   0   0   0   0   0   0   0   0   0   0 102 102  41   0   0   0   0   0   0   0   0]\n",
            " [  0   0   0   0   0   0   0   0   0   0   0   0   0   0   0 132 253 254 253 254 253 255 253  62   0   0   0   0]\n",
            " [  0   0   0   0   0   0   0   0   0   0   0   0   0   0  41 213 252 253 252 253 252 253 252 223 122   0   0   0]\n",
            " [  0   0   0   0   0   0   0   0   0   0   0  31 132 123 123 254 253 254 253 203 203 214 253 255 192   0   0   0]\n",
            " [  0   0   0   0   0   0   0   0   0   0   0 152 252 141 101 131  50  50  50   0   0  10  50 112  91   0   0   0]\n",
            " [  0   0   0   0   0   0   0   0   0  51 193 254 131   0   0   0   0   0   0   0   0   0   0   0   0   0   0   0]\n",
            " [  0   0   0   0   0   0   0   0  41 233 252 253 212 183 102  41   0   0   0   0   0   0   0   0   0   0   0   0]\n",
            " [  0   0   0   0   0   0   0   0   0 254 253 254 253 254 253 254 172   0   0   0   0   0   0   0   0   0   0   0]\n",
            " [  0   0   0   0   0   0   0   0   0  50 212 253 252 253 252 253 252 123   0   0   0   0   0   0   0   0   0   0]\n",
            " [  0   0   0   0   0   0   0   0   0   0   0 102 102 102 142 234 253 163   0   0   0   0   0   0   0   0   0   0]\n",
            " [  0   0   0   0   0   0   0   0   0   0   0   0   0   0   0 152 252 203   0   0   0   0   0   0   0   0   0   0]\n",
            " [  0   0   0   0   0  11 132  41   0   0   0   0   0   0  41 254 253 123   0   0   0   0   0   0   0   0   0   0]\n",
            " [  0   0   0   0   0 132 252 223  20   0   0   0   0  21 183 253 252 122   0   0   0   0   0   0   0   0   0   0]\n",
            " [  0   0   0   0   0 193 253 254 253  92  51 152 152 254 253 254 213  41   0   0   0   0   0   0   0   0   0   0]\n",
            " [  0   0   0   0   0  92 232 253 252 253 252 253 252 253 252 253 130   0   0   0   0   0   0   0   0   0   0   0]\n",
            " [  0   0   0   0   0   0  41 214 253 255 253 254 253 254 233 102  20   0   0   0   0   0   0   0   0   0   0   0]\n",
            " [  0   0   0   0   0   0   0  31 192 253 212 151 111  50  30   0   0   0   0   0   0   0   0   0   0   0   0   0]\n",
            " [  0   0   0   0   0   0   0   0   0   0   0   0   0   0   0   0   0   0   0   0   0   0   0   0   0   0   0   0]\n",
            " [  0   0   0   0   0   0   0   0   0   0   0   0   0   0   0   0   0   0   0   0   0   0   0   0   0   0   0   0]\n",
            " [  0   0   0   0   0   0   0   0   0   0   0   0   0   0   0   0   0   0   0   0   0   0   0   0   0   0   0   0]\n",
            " [  0   0   0   0   0   0   0   0   0   0   0   0   0   0   0   0   0   0   0   0   0   0   0   0   0   0   0   0]\n",
            " [  0   0   0   0   0   0   0   0   0   0   0   0   0   0   0   0   0   0   0   0   0   0   0   0   0   0   0   0]]\n"
          ]
        }
      ],
      "source": [
        "np.set_printoptions(linewidth=120)  # Making line width large so that the entire first row is printed as one row!\n",
        "\n",
        "print(np.matrix(X_train[index]))    # Let us examine the pixel values of the last number from above"
      ]
    },
    {
      "cell_type": "markdown",
      "metadata": {
        "id": "Y8Zv8aPtov0H"
      },
      "source": [
        "### **Comments:**\n",
        "* This array is what your computer receives and operates with.\n",
        "\n",
        "* If we follow the non-zero pixels we can see the number!\n",
        "\n",
        "* This is a black and white image. Here the pixel values correspond to light * intensities. Each pixel is an 8-bit integer from 0-255. 0 is full black, while  255 is full white.\n",
        "\n",
        "\n",
        "* This is what we call a single-channel pixel. It's called monochrome.\n",
        "\n",
        "* *Fun-fact! Your computer screen has three channels for each pixel: red, green, blue. Each of these channels also takes an 8-bit integer. 3 channels -- 24 bits total -- 16,777,216 possible colors!*"
      ]
    },
    {
      "cell_type": "markdown",
      "metadata": {
        "id": "94Apikgpov0H"
      },
      "source": [
        "## **Formatting the input data layer**\n",
        "\n",
        "* Instead of a 28 x 28 matrix, we build our network to accept a 784-length vector.\n",
        "\n",
        "* Each image needs to be then reshaped (or flattened) into a vector. We'll also normalize the inputs to be in the range [0-1] rather than [0-255]. Normalizing inputs is generally recommended, so that any additional dimensions (for other network architectures) are of the same scale.\n",
        "\n",
        "**Note** : *By flattening the the matrix, we loose the connectivity information of the input pixels. i.e: The model has no idea that the pixels at (1,1) and (2,1) are adjacent pixels(vertically connected). The model we build here, makes no use of the information that adjacent pixels (horizontal/vertical/diagonal/across any direction) are similar and contain a piece of informaiton if grouped together. Keep this fact at the back of your mind, we will come back to this, when we solve the same problem using* **Convolutional Neural Networks**!"
      ]
    },
    {
      "cell_type": "markdown",
      "metadata": {
        "id": "RkVd9Svfov0H"
      },
      "source": [
        "<img src='https://github.com/AviatorMoser/keras-mnist-tutorial/blob/master/flatten.png?raw=1' >"
      ]
    },
    {
      "cell_type": "code",
      "execution_count": null,
      "metadata": {
        "id": "xgIb_xFIov0I",
        "colab": {
          "base_uri": "https://localhost:8080/"
        },
        "outputId": "68f19ad8-8ca9-4949-b70b-68b9dbe0c3f0"
      },
      "outputs": [
        {
          "output_type": "stream",
          "name": "stdout",
          "text": [
            "Training matrix shape now:  (60000, 784)\n",
            "Testing matrix shape now: (10000, 784)\n"
          ]
        }
      ],
      "source": [
        "X_train = X_train.reshape(60000, 784) # reshape 60,000 28 x 28 matrices into 60,000 784-length vectors.\n",
        "X_test = X_test.reshape(10000, 784)   # reshape 10,000 28 x 28 matrices into 10,000 784-length vectors.\n",
        "\n",
        "X_train = X_train.astype('float32')   # change integers to 32-bit floating point numbers\n",
        "X_test = X_test.astype('float32')\n",
        "\n",
        "X_train /= 255                        # normalize each value for each pixel for the entire vector for each input\n",
        "X_test /= 255\n",
        "\n",
        "print(f\"Training matrix shape now:  {X_train.shape}\")\n",
        "print(f\"Testing matrix shape now: {X_test.shape}\")"
      ]
    },
    {
      "cell_type": "markdown",
      "metadata": {
        "id": "bRziX-pJov0I"
      },
      "source": [
        "**We then modify our classes (unique digits) to be in the one-hot format, i.e.**\n",
        "\n",
        "```\n",
        "0 -> [1, 0, 0, 0, 0, 0, 0, 0, 0]\n",
        "1 -> [0, 1, 0, 0, 0, 0, 0, 0, 0]\n",
        "2 -> [0, 0, 1, 0, 0, 0, 0, 0, 0]\n",
        "etc.\n",
        "```\n",
        "\n",
        "**If the final output of our network is very close to one of these classes, then it is most likely that class. For example, if the final output is:**\n",
        "\n",
        "```\n",
        "[0, 0.94, 0, 0, 0, 0, 0.06, 0, 0]\n",
        "```\n",
        "**then it is most probable that the image is that of the digit `1`**.\n",
        "\n"
      ]
    },
    {
      "cell_type": "code",
      "execution_count": null,
      "metadata": {
        "collapsed": true,
        "id": "3U7heW-Fov0I"
      },
      "outputs": [],
      "source": [
        "# Converting the given y-labels to ONE HOT ENCODED VECTORS form\n",
        "n_classes = 10 # number of unique digits/classes\n",
        "\n",
        "Y_train = np_utils.to_categorical(y_train, n_classes)\n",
        "Y_test = np_utils.to_categorical(y_test, n_classes)"
      ]
    },
    {
      "cell_type": "markdown",
      "metadata": {
        "id": "ZChS57efov0I"
      },
      "source": [
        "## **Building a 3-layer fully connected network (FCN)**\n",
        "\n",
        "<img src=\"https://github.com/AviatorMoser/keras-mnist-tutorial/blob/master/figure.png?raw=1\" />"
      ]
    },
    {
      "cell_type": "code",
      "execution_count": null,
      "metadata": {
        "collapsed": true,
        "id": "zve7enOkov0J"
      },
      "outputs": [],
      "source": [
        "# The Sequential model is a linear stack of layers and is very common.\n",
        "model = Sequential()"
      ]
    },
    {
      "cell_type": "markdown",
      "metadata": {
        "id": "fVWbZ606ov0J"
      },
      "source": [
        "### **The first hidden layer**"
      ]
    },
    {
      "cell_type": "code",
      "execution_count": null,
      "metadata": {
        "collapsed": true,
        "id": "zmBnNM5Lov0J"
      },
      "outputs": [],
      "source": [
        "# The first hidden layer is a set of 512 nodes (artificial neurons).\n",
        "# Each node will receive an element from each input vector and apply some weight and bias to it.\n",
        "\n",
        "model.add(Dense(512, input_shape=(784,))) #(784,) is not a typo -- that represents a 784 length vector!"
      ]
    },
    {
      "cell_type": "code",
      "execution_count": null,
      "metadata": {
        "collapsed": true,
        "id": "l-WhCBvyov0K"
      },
      "outputs": [],
      "source": [
        "# An \"activation\" is a non-linear function applied to the output of the layer above.\n",
        "# It checks the new value of the node, and decides whether that artifical neuron has fired.\n",
        "# The Rectified Linear Unit (ReLU) converts all negative inputs to nodes in the next layer to be zero.\n",
        "# Those inputs are then not considered to be fired.\n",
        "# Positive values of a node are unchanged.\n",
        "\n",
        "model.add(Activation('relu'))\n",
        "# It is this RELU FUNCTION that brings in non-linearity to the network, which then unlocks the model to be able to generalize to literally any function,\n",
        "# given a large enough network!"
      ]
    },
    {
      "cell_type": "markdown",
      "metadata": {
        "id": "9tyOupm9ov0K"
      },
      "source": [
        "$$f(x) = max (0,x)$$\n",
        "<img src = 'https://github.com/AviatorMoser/keras-mnist-tutorial/blob/master/relu.jpg?raw=1' >"
      ]
    },
    {
      "cell_type": "code",
      "execution_count": null,
      "metadata": {
        "collapsed": true,
        "id": "ncr9HGU_ov0L"
      },
      "outputs": [],
      "source": [
        "# Dropout zeroes a selection of random outputs (i.e., disables their activation)\n",
        "# Dropout helps protect the model from memorizing or \"overfitting\" the training data.\n",
        "model.add(Dropout(0.2))"
      ]
    },
    {
      "cell_type": "markdown",
      "source": [
        "<img src = \"https://d3i71xaburhd42.cloudfront.net/34f25a8704614163c4095b3ee2fc969b60de4698/2-Figure1-1.png\" >\n",
        "\n",
        "#### **Intuition:**\n",
        "If some of the nodes are randomly not available to the model for making its prediction during training phase, it means that the other nodes are forced to be able to make the right prediction, even in the absence of the missing nodes' information. This means, the information is forced to be uniformly spread across all the nodes of the network, and the neural network cannot cheat by using the information contained in one or two nodes alone for making the predictions."
      ],
      "metadata": {
        "id": "sd-h2zU9V8BW"
      }
    },
    {
      "cell_type": "markdown",
      "metadata": {
        "id": "IgcHvR3Nov0L"
      },
      "source": [
        "### **Adding the second hidden layer**"
      ]
    },
    {
      "cell_type": "code",
      "execution_count": null,
      "metadata": {
        "collapsed": true,
        "id": "GX2IjnDRov0L"
      },
      "outputs": [],
      "source": [
        "# The second hidden layer appears identical to our first layer.\n",
        "# However, instead of each of the 512-node receiving 784-inputs from the input image data,\n",
        "# they receive 512 inputs from the output of the first 512-node layer.\n",
        "\n",
        "model.add(Dense(512))\n",
        "model.add(Activation('relu'))\n",
        "model.add(Dropout(0.2))"
      ]
    },
    {
      "cell_type": "markdown",
      "metadata": {
        "id": "JEfJqe-Tov0L"
      },
      "source": [
        "### **The Final Output Layer**"
      ]
    },
    {
      "cell_type": "code",
      "execution_count": null,
      "metadata": {
        "collapsed": true,
        "id": "SwiCshfzov0L"
      },
      "outputs": [],
      "source": [
        "# The final layer of 10 neurons in fully-connected to the previous 512-node layer.\n",
        "# The final layer of a FCN should be equal to the number of desired classes (10 in this case).\n",
        "model.add(Dense(10))"
      ]
    },
    {
      "cell_type": "code",
      "execution_count": null,
      "metadata": {
        "collapsed": true,
        "id": "6JEiJ-xRov0L"
      },
      "outputs": [],
      "source": [
        "# The \"softmax\" activation represents a probability distribution over K different possible outcomes.\n",
        "# Its values are all non-negative and sum to 1.\n",
        "\n",
        "model.add(Activation('softmax'))"
      ]
    },
    {
      "cell_type": "markdown",
      "source": [
        "\n",
        "\n",
        "<img src = \"https://www.researchgate.net/profile/Nabi-Nabiyev-2/publication/349662206/figure/fig3/AS:995882686246913@1614448343589/Working-principles-of-softmax-function.jpg\" >\n",
        "\n",
        "**Intuition**:\n",
        "It is really a neat way of converting The activation values of Output layer into Probabilities of the image belonging to each of the classes!"
      ],
      "metadata": {
        "id": "kovH8ifJXVw1"
      }
    },
    {
      "cell_type": "code",
      "execution_count": null,
      "metadata": {
        "id": "ttn4IUrjov0L",
        "colab": {
          "base_uri": "https://localhost:8080/"
        },
        "outputId": "56af703d-671e-4785-fb71-e80153625688"
      },
      "outputs": [
        {
          "output_type": "stream",
          "name": "stdout",
          "text": [
            "Model: \"sequential\"\n",
            "_________________________________________________________________\n",
            " Layer (type)                Output Shape              Param #   \n",
            "=================================================================\n",
            " dense (Dense)               (None, 512)               401920    \n",
            "                                                                 \n",
            " activation (Activation)     (None, 512)               0         \n",
            "                                                                 \n",
            " dropout (Dropout)           (None, 512)               0         \n",
            "                                                                 \n",
            " dense_1 (Dense)             (None, 512)               262656    \n",
            "                                                                 \n",
            " activation_1 (Activation)   (None, 512)               0         \n",
            "                                                                 \n",
            " dropout_1 (Dropout)         (None, 512)               0         \n",
            "                                                                 \n",
            " dense_2 (Dense)             (None, 10)                5130      \n",
            "                                                                 \n",
            " activation_2 (Activation)   (None, 10)                0         \n",
            "                                                                 \n",
            "=================================================================\n",
            "Total params: 669,706\n",
            "Trainable params: 669,706\n",
            "Non-trainable params: 0\n",
            "_________________________________________________________________\n"
          ]
        }
      ],
      "source": [
        "# Summarize the built model\n",
        "\n",
        "model.summary()"
      ]
    },
    {
      "cell_type": "markdown",
      "metadata": {
        "id": "XhUq6Nm6ov0M"
      },
      "source": [
        "### **Compiling the model**\n",
        "\n",
        "* Keras is built on top of Theano and TensorFlow. Both packages allow you to define a *computation graph* in Python, which then compiles and runs efficiently on the CPU or GPU without the overhead of the Python interpreter.\n",
        "\n",
        "* When compiing a model, Keras asks you to specify your **loss function** and your **optimizer**. The loss function we'll use here is called *categorical cross-entropy*, and is a loss function well-suited to comparing two probability distributions.\n",
        "\n",
        "* Our predictions are probability distributions across the ten different digits (e.g. \"we're 80% confident this image is a 3, 10% sure it's an 8, 5% it's a 2, etc.\"), and the target is a probability distribution with 100% for the correct category, and 0 for everything else. The cross-entropy is a measure of how different your predicted distribution is from the target distribution. [More detail at Wikipedia](https://en.wikipedia.org/wiki/Cross_entropy)\n",
        "\n",
        "* The optimizer helps determine how quickly the model learns through **gradient descent**. The rate at which descends a gradient is called the **learning rate**."
      ]
    },
    {
      "cell_type": "markdown",
      "metadata": {
        "id": "Wd5yXIL-ov0M"
      },
      "source": [
        "<img src = \"https://mlfromscratch.com/content/images/2019/12/gradient-descent-optimized--1-.gif\" >\n",
        "This is a beautiful illustration of gradient descent.\n",
        "Have a close look at this awesome GIF.\n",
        "\n",
        "This is literally where all the **MAGIC** of **learning patterns** from **data** happens!\n",
        "\n",
        "What **gradient descent** does is, find the direction in which each of the parameters need to be tweaked, so that, the loss will become lesser in the next iteration!\n",
        "\n",
        "*Put very bluntly, Gradient descent is when there is an error between the expected value and the predicted value,\n",
        "Each parameter, interacts with the model's loss value manually, and try to improve them for the next iteration!*\n",
        "\n",
        "**Parameter**:  \"Ohh, Sorry, for the error/mistake, may I know what changes I need to make to myself, so that I can hopefully reduce the error, the next time around?\"\n",
        "\n",
        "\n",
        "**Model**: Sure, if you slightly increase/decrease your value, it might reduce the total Loss of our company.\n",
        "\n",
        "\n",
        "**Parameter**: Thanks, will work on it, and let's see how it goes, next time!\n",
        "\n",
        "If all the parameters do this at the same time, and they do it in appropriate step sizes, for long enough, everything will Converge to the Global Minimum. One more nuance is that They change in proportion to their gradient value. i.e: If some parameter has a large impact on the Change in loss value, it will be changed more at this time-step, so that we are leveraging its ability to reduce the loss faster.   \n",
        "\n",
        "* **But first**, our main task is make sure that the **LOSS FUNCTION** actually corresponds to some scalar that is a measure of **how well/bad** our **model** is **performing** at the task we intend it to perform. In this case, our loss function captures, how confidently our model is able to predict the right numbers, which is the behaviour we incentivise our Model by rewarding it when it is good. And punishing with heavy fines when the loss is bad!\n",
        "\n",
        "* So, if we are able to automatically incentivise(define it once, sit back, relax!) Good behaviour and automatically punish bad behaviour using appropriate metrics (**LOSS FUNCTIONS**) that are **true** to the **essence** of **\"what We want to achieve**\", then\n",
        "\n",
        "* **Just providing correctly labelled data is enough for the model to automatically learn how to get Good at that particular task**, by trying to predict the labels of the training data with randomly initialized weights ->  failing -> automatically tweaking it's weights to be better suited to do it in the next iteration, using Gradient Descent!\n",
        "*  Eventually, successfully learning the underlying features of the data that we want it to learn!\n",
        "\n",
        "\n"
      ]
    },
    {
      "cell_type": "markdown",
      "metadata": {
        "id": "nhqzfOjtov0M"
      },
      "source": [
        "<img src = \"https://www.jeremyjordan.me/content/images/2018/02/Screen-Shot-2018-02-24-at-11.47.09-AM.png\" >"
      ]
    },
    {
      "cell_type": "markdown",
      "metadata": {
        "id": "ab9wkUT-ov0M"
      },
      "source": [
        "***So are smaller learning rates better? Not quite! It's important for an optimizer not to get stuck in local minima while neglecting the global minimum of the loss function. Sometimes that means trying a larger learning rate to jump out of a local minimum.***"
      ]
    },
    {
      "cell_type": "markdown",
      "metadata": {
        "id": "-TGh1hPoov0M"
      },
      "source": [
        "<img src = \"https://github.com/AviatorMoser/keras-mnist-tutorial/blob/master/complicated_loss_function.png?raw=1\" >"
      ]
    },
    {
      "cell_type": "code",
      "execution_count": null,
      "metadata": {
        "collapsed": true,
        "id": "FYUWmKDAov0M"
      },
      "outputs": [],
      "source": [
        "# Let's use the Adam optimizer for learning\n",
        "model.compile(loss='categorical_crossentropy', optimizer='adam', metrics=['accuracy'])\n",
        "#If you want to understand how categorical Cross entropy works check out this cool video from StatQuest : https://youtu.be/6ArSys5qHAU\n"
      ]
    },
    {
      "cell_type": "markdown",
      "source": [
        "#### **Comments:**\n",
        "* We use **Adam optimizer** for tuning weights, The results of the Adam optimizer are generally better than every other optimization algorithms, have faster computation time, and require fewer parameters for tuning.\n",
        "\n",
        "* **Categorical Cross Entropy**: Non linearly penalizes Low Confidence on the correct label, with a large loss, and has very low loss if the confidence is close to 1.\n",
        "\n",
        "* The tuning of weights happen based on the Gradients of the loss function and not the accuracy! This is because, the accuracy(highest probability class) remains the same if the confidence of the model in predicting a class is 60% or 90%. But losses, depend on the how confident the model is able to classify a particular image to its own class! So, we have the Loss function and the weight updation happening based on the values of the loss function. This means, the model is asked to learn features that enable it to classify images to its own class as confidently as possible!\n"
      ],
      "metadata": {
        "id": "vTOs8PaqxsHH"
      }
    },
    {
      "cell_type": "markdown",
      "metadata": {
        "id": "jiZPEIK2ov0N"
      },
      "source": [
        "## **Train the model!**\n",
        "*This is the fun part!*"
      ]
    },
    {
      "cell_type": "markdown",
      "metadata": {
        "id": "94_WxQdqov0N"
      },
      "source": [
        "* The batch size determines over how much data per step is used to compute the loss function, gradients, and back propagation. Large batch sizes allow the network to complete it's training faster; however, there are other factors beyond training speed to consider.\n",
        "\n",
        "* Too large of a batch size smoothes the local minima of the loss function, causing the optimizer to settle in one because it thinks it found the global minimum.\n",
        "\n",
        "* Too small of a batch size creates a very noisy loss function, and the optimizer may never find the global minimum.\n",
        "\n",
        "* So a good batch size may take some trial and error to find!"
      ]
    },
    {
      "cell_type": "code",
      "execution_count": null,
      "metadata": {
        "id": "grYjmImKov0N",
        "colab": {
          "base_uri": "https://localhost:8080/"
        },
        "outputId": "a4808b0e-a0df-4bf2-d09d-6f7647a552ce"
      },
      "outputs": [
        {
          "output_type": "stream",
          "name": "stdout",
          "text": [
            "Epoch 1/5\n",
            "469/469 [==============================] - 5s 4ms/step - loss: 0.2515 - accuracy: 0.9239 - val_loss: 0.1050 - val_accuracy: 0.9666\n",
            "Epoch 2/5\n",
            "469/469 [==============================] - 2s 5ms/step - loss: 0.1005 - accuracy: 0.9686 - val_loss: 0.0859 - val_accuracy: 0.9722\n",
            "Epoch 3/5\n",
            "469/469 [==============================] - 3s 6ms/step - loss: 0.0727 - accuracy: 0.9767 - val_loss: 0.0818 - val_accuracy: 0.9737\n",
            "Epoch 4/5\n",
            "469/469 [==============================] - 2s 4ms/step - loss: 0.0568 - accuracy: 0.9815 - val_loss: 0.0670 - val_accuracy: 0.9790\n",
            "Epoch 5/5\n",
            "469/469 [==============================] - 2s 4ms/step - loss: 0.0452 - accuracy: 0.9852 - val_loss: 0.0710 - val_accuracy: 0.9801\n"
          ]
        }
      ],
      "source": [
        "# Now let's train the model\n",
        "history = model.fit(X_train, Y_train,validation_data=(X_test, Y_test),\n",
        "          batch_size=128, epochs=5, verbose=1)\n",
        "#EPOCH - In terms of artificial neural networks, an epoch refers to one cycle through the full training dataset. Usually, training a neural network takes more than a few epochs.\n",
        "#In other words, if we feed a neural network the training data for more than one epoch in different patterns, we hope for a better generalization when given a new \"unseen\" input (test data)."
      ]
    },
    {
      "cell_type": "markdown",
      "source": [
        "* The two numbers, in order, represent the value of the loss function of the network on the training set, and the overall accuracy of the network on the training data.\n",
        "\n",
        "* We see that The loss goes down and the accuracy improves with time.\n",
        "\n",
        "* But how does it do on data it did not train on?\n",
        "\n",
        "### **Let us plot the losses and see!**"
      ],
      "metadata": {
        "id": "5MoBCg5KsxeA"
      }
    },
    {
      "cell_type": "code",
      "source": [
        "# Function to plot loss\n",
        "def plot_loss(history):\n",
        "    plt.plot(history.history['loss'], label='loss')\n",
        "    plt.plot(history.history['val_loss'], label='val_loss')\n",
        "    plt.xlabel('Epoch')\n",
        "    plt.ylabel('Error (Loss)')\n",
        "    plt.legend()\n",
        "    plt.grid(True)\n",
        "\n",
        "plot_loss(history)"
      ],
      "metadata": {
        "colab": {
          "base_uri": "https://localhost:8080/",
          "height": 551
        },
        "id": "doC2YA-Zh2V1",
        "outputId": "7ef34649-c252-4fa3-a091-86ef9a5fb1cc"
      },
      "execution_count": null,
      "outputs": [
        {
          "output_type": "display_data",
          "data": {
            "text/plain": [
              "<Figure size 648x648 with 1 Axes>"
            ],
            "image/png": "[encoded data removed]"
          },
          "metadata": {
            "needs_background": "light"
          }
        }
      ]
    },
    {
      "cell_type": "markdown",
      "metadata": {
        "id": "Xj7kve2Oov0N"
      },
      "source": [
        "## **Evaluate Model's Accuracy on Test Data**"
      ]
    },
    {
      "cell_type": "code",
      "execution_count": null,
      "metadata": {
        "id": "wKHnSbtXov0N",
        "colab": {
          "base_uri": "https://localhost:8080/"
        },
        "outputId": "f6ceec9d-3c54-4567-ea6c-11d89d73627b"
      },
      "outputs": [
        {
          "output_type": "stream",
          "name": "stdout",
          "text": [
            "313/313 [==============================] - 1s 2ms/step - loss: 0.0710 - accuracy: 0.9801\n",
            "Test score: 0.07095347344875336\n",
            "Test accuracy: 0.9800999760627747\n"
          ]
        }
      ],
      "source": [
        "score = model.evaluate(X_test, Y_test)\n",
        "print('Test score:', score[0])\n",
        "print('Test accuracy:', score[1])"
      ]
    },
    {
      "cell_type": "markdown",
      "metadata": {
        "id": "HPBSWbU8ov0N"
      },
      "source": [
        "### **Inspecting the output**\n",
        "\n",
        "It's always a good idea to inspect the output and make sure everything looks sane. Here we'll look at some examples it gets right, and some examples it gets wrong."
      ]
    },
    {
      "cell_type": "code",
      "execution_count": null,
      "metadata": {
        "collapsed": true,
        "id": "OFYeFH1xov0N"
      },
      "outputs": [],
      "source": [
        "# The predict_classes function outputs the highest probability class\n",
        "# according to the trained classifier for each input example.\n",
        "predicted_classes = np.argmax(model.predict(X_test), axis=-1) # we get probabilities for each of the class, and the argmax corresponds the class index with the highest probability\n",
        "\n",
        "# Check which items we got right / wrong\n",
        "correct_indices = np.nonzero(predicted_classes == y_test)[0]\n",
        "\n",
        "incorrect_indices = np.nonzero(predicted_classes != y_test)[0]"
      ]
    },
    {
      "cell_type": "code",
      "execution_count": null,
      "metadata": {
        "id": "S2eaZFInov0O",
        "colab": {
          "base_uri": "https://localhost:8080/",
          "height": 657
        },
        "outputId": "35ded92c-16a4-4b0c-83de-8e1efbb3fbf3"
      },
      "outputs": [
        {
          "output_type": "display_data",
          "data": {
            "text/plain": [
              "<Figure size 648x648 with 9 Axes>"
            ],
            "image/png": "[encoded data removed]"
          },
          "metadata": {
            "needs_background": "light"
          }
        }
      ],
      "source": [
        "# Let us examine the Correctly labelled images\n",
        "plt.rcParams['figure.figsize'] = (9,9) # Change these values to Make the figures bigger/smaller\n",
        "plt.figure()\n",
        "for i, correct in enumerate(correct_indices[:9]):\n",
        "    plt.subplot(3,3,i+1)\n",
        "    plt.imshow(X_test[correct].reshape(28,28), cmap='gray', interpolation='none')\n",
        "    plt.title(f\"Predicted {predicted_classes[correct]}, Class {y_test[correct]}\")\n",
        "\n",
        "plt.tight_layout()"
      ]
    },
    {
      "cell_type": "markdown",
      "source": [
        "**Let us exanine a few of incorrectly labelled images and think see if they the model's predictions are reasonable!**"
      ],
      "metadata": {
        "id": "r1PqnNOvagjj"
      }
    },
    {
      "cell_type": "code",
      "source": [
        "# Let us examine the InCorrectly  labelled images\n",
        "plt.figure()\n",
        "for i, incorrect in enumerate(incorrect_indices[:9]):\n",
        "    plt.subplot(3,3,i+1)\n",
        "    plt.imshow(X_test[incorrect].reshape(28,28), cmap='gray', interpolation='none')\n",
        "    plt.title(f\"Predicted {predicted_classes[incorrect]}, Class {y_test[incorrect]}\")\n",
        "\n",
        "plt.tight_layout()"
      ],
      "metadata": {
        "colab": {
          "base_uri": "https://localhost:8080/",
          "height": 657
        },
        "id": "sO69jzSWaNzj",
        "outputId": "39b8bb93-b75e-4422-f14e-e0cf836fcce8"
      },
      "execution_count": null,
      "outputs": [
        {
          "output_type": "display_data",
          "data": {
            "text/plain": [
              "<Figure size 648x648 with 9 Axes>"
            ],
            "image/png": "[encoded data removed]"
          },
          "metadata": {
            "needs_background": "light"
          }
        }
      ]
    },
    {
      "cell_type": "markdown",
      "source": [
        "**Some of these images are not clear enough, and we can have some Excuse for the model in misclassifying these!**"
      ],
      "metadata": {
        "id": "MBOpYdANawpS"
      }
    },
    {
      "cell_type": "markdown",
      "metadata": {
        "id": "TpV5MsOLov0O"
      },
      "source": [
        "## **Trying experimenting with the batch size, Number of layers, number of nodes in each of the layers etc.!**\n",
        "\n",
        "* How does increasing the batch size to 10,000 affect the training time and test accuracy?\n",
        "\n",
        "* How about a batch size of 32?"
      ]
    },
    {
      "cell_type": "markdown",
      "source": [
        "## **Now that The model has been trained, we would like to save it, download it, load it and use it for future inferences.**"
      ],
      "metadata": {
        "id": "fOhudF81iGYC"
      }
    },
    {
      "cell_type": "code",
      "source": [
        "# Save model\n",
        "model.save(\"trained_model.h5\")\n",
        "\n",
        "# Load the saved model\n",
        "saved_model = models.load_model('trained_model.h5')\n"
      ],
      "metadata": {
        "id": "fKmv0MvviZWS"
      },
      "execution_count": null,
      "outputs": []
    },
    {
      "cell_type": "code",
      "source": [
        "predicted_classes = np.argmax(model.predict(X_test), axis=-1) # we get probabilities for each of the class, and the argmax corresponds the class index with the highest probability\n",
        "predicted_classes_from_saved = np.argmax(saved_model.predict(X_test), axis=-1)\n",
        "(predicted_classes == predicted_classes_from_saved).all()\n"
      ],
      "metadata": {
        "colab": {
          "base_uri": "https://localhost:8080/"
        },
        "id": "ESilARHMjTQq",
        "outputId": "343a1c3a-fa77-494b-90f2-edfa2dca10ca"
      },
      "execution_count": null,
      "outputs": [
        {
          "output_type": "execute_result",
          "data": {
            "text/plain": [
              "True"
            ]
          },
          "metadata": {},
          "execution_count": 24
        }
      ]
    },
    {
      "cell_type": "markdown",
      "source": [
        "***We can see that the Saved model's predictions match the Original model's prediction, confirming that we have been able to properly save and retrieve our model and it it works identically to the model trained on Google Colab!***"
      ],
      "metadata": {
        "id": "eoJ70nQo06pt"
      }
    },
    {
      "cell_type": "markdown",
      "source": [
        "# **Convolutional Neural Network(CNN)**"
      ],
      "metadata": {
        "id": "pShsd7-kslim"
      }
    },
    {
      "cell_type": "markdown",
      "source": [
        "## *A small note on Jupyter Notebooks*\n",
        "Before we get started, I would like you use this feature of Jupyter Notebooks(incase you didn't know already)\n",
        "* we can  fold and unfold contents in the Jupyter notebook based on their Indentation levels.\n",
        "* This means we can use the Notebook like a function wrapper, and wrap different sections and sub-sections of the notebook as blocks and work with them easily. For example, the entire Last notebook can be folded into a cell, just by clicking on the arrow near its heading (Dense FCN).\n",
        "* This makes the notebook, easy to read, and also run sections of code, collectively at once making it --> easy to read, interact and overall fun to work with!"
      ],
      "metadata": {
        "id": "rz-DVUSHUPze"
      }
    },
    {
      "cell_type": "markdown",
      "metadata": {
        "id": "EIN42tWrohkd"
      },
      "source": [
        "## **Introducing Convolution! What is it?**"
      ]
    },
    {
      "cell_type": "markdown",
      "metadata": {
        "id": "sMcelSvCohkd"
      },
      "source": [
        "Before, we built a network that accepts the normalized pixel values of each value and operates soley on those values. What if we could instead feed different features (e.g. **curvature, edges**) of each image into a network, and have the network learn which features are important for classifying an image?\n",
        "\n",
        "This is possible through convolution! Convolution applies **kernels** (filters) that traverse through each image and generate **feature maps**."
      ]
    },
    {
      "cell_type": "markdown",
      "metadata": {
        "id": "IPs8gYUPohke"
      },
      "source": [
        "<img src = \"https://github.com/AviatorMoser/keras-mnist-tutorial/blob/master/convolution.gif?raw=1\" >"
      ]
    },
    {
      "cell_type": "markdown",
      "metadata": {
        "id": "X1t3O8Cxohke"
      },
      "source": [
        "In the above example, the image is a 5 x 5 matrix and the kernel/filter going over it is a 3 x 3 matrix. A dot product operation takes place between the image and the kernel and the convolved feature is generated. Each kernel in a CNN learns a different characteristic of an image.\n",
        "\n",
        "Kernels are often used in photoediting software to apply blurring, edge detection, sharpening, etc."
      ]
    },
    {
      "cell_type": "markdown",
      "metadata": {
        "id": "nwhNAJ23ohke"
      },
      "source": [
        "\n",
        "\n",
        "<img src = 'https://github.com/AviatorMoser/keras-mnist-tutorial/blob/master/kernels.png?raw=1' >\n",
        "\n",
        "* Here, we can see an identity filter does nothing, as it retains the central pixel's value without altering it with any of the surrounding pixels.\n",
        "* Look at the Sharpen filter, intuitively what we are doing here is:\n",
        "make 5 copies of the central pixel, and from 4 of those copies subtract the pixel features of the neighboring pixels. What we are left with is one central pixel + 4 x (features that are unique to the central pixel), basically sharpening that features that are unique to that pixel alone in the neighborhood!\n",
        "* Look at Box Blur, here all we are doing is, replacing the central pixel with the average of all pixels surrounding it. This means, information specific to this pixel loses its importance, as we are averaging it out. Doing the reverse of what we did for sharpening.\n",
        "* One more interesting observation to make here, is thatin all cases other than edge detection, we are replacing one pixel's information with one pixel only. +(5 x center)-(4 x neigbours) = 1 , 1/9 x 9(pixels in that region) = 1. You can add them up and verify for yourselves! This means, that we are replacing the original image with another image with a focus on some specific attribute/modification applied to it.\n",
        "* But in edge detection, we don't want the image back, we only care about the presence of patterns, hence, it sums to 0. Ie. We only capture whether a feature(information arising due to transition in pixel values in specific patterns) exists or not. If a specific transition happens, it is detected. Else it will be all black. As overall, all the pixels that are close together will have similar pixel values. So, simply adding and subracting surrounding pixels which are mostly bound be similar to each other will always end up with a value close to 0. Unless specific interesting transitions happen in that region, and is being captured by the filter."
      ]
    },
    {
      "cell_type": "markdown",
      "source": [
        "**Must watch Interesting videos on Convolution Filters**\n",
        "\n",
        "* [Andrew NG - Convolution intuition](https://youtu.be/XuD4C8vJzEQ?list=PLkDaE6sCZn6Gl29AoE31iwdVwSG-KnDzF)\n",
        "* [Grant Sanderson(3Blue1Brown)'s deepdive](https://youtu.be/8rrHTtUzyZA?t=75)"
      ],
      "metadata": {
        "id": "KYzWNeTznTfn"
      }
    },
    {
      "cell_type": "markdown",
      "metadata": {
        "id": "Ze-1kzWBohke"
      },
      "source": [
        "**MAX POOLING:** It is a pooling operation that calculates the maximum value for patches of a feature map, and uses it to create a downsampled (pooled) feature map. It is usually used after a convolutional layer. It adds a small amount of translation invariance - meaning translating the image by a small amount does not significantly affect the values of most pooled outputs. This significantly reduces the number of learned parameters, and decreases the computational cost (e.g. system memory, amount of data that needs to processed in further layers etc.). The idea is to keep the most of the information contained in the region, with much less memory and features!\n",
        "\n"
      ]
    },
    {
      "cell_type": "markdown",
      "metadata": {
        "id": "5-v2kxg4ohke"
      },
      "source": [
        "<img src = 'https://github.com/AviatorMoser/keras-mnist-tutorial/blob/master/max_pooling.png?raw=1' >\n",
        "\n",
        "<img src = \"https://github.com/AviatorMoser/keras-mnist-tutorial/blob/master/convolution.gif?raw=1\" >\n",
        "\n",
        "**Intuition:** If we think about it, if a filter/kernel's pattern matches at a location in the image, it is also likely produce a decent match in the next closest slide. As, most of the pixels remain the same, as we slide our filter across the input image. In such a case, we don't have to keep the information of how much the kernel matched on each small slide of the Sliding Filter. We only need to have an overall Sense of how much our Filter's pattern matched with the image over a certain region. So, we can only keep the best match, as an information holder to the model that, this filter's pattern matched in this region of the image."
      ]
    },
    {
      "cell_type": "markdown",
      "metadata": {
        "id": "A9sBSgNVohke"
      },
      "source": [
        "**We can also take convolutions of convolutions** -- we can stack as many convolutions as we want, as long as there are enough pixels to fit a kernel.\n",
        "\n",
        "Intuitively, this means first we look for low level basic patterns, like lines and curves in the initial layers. And then, in further layers, find patterns that match combinations of these low level patterns in meaningful manners, to higher and higher levels of abstraction, until it can detect the whole image near its final layers.\n",
        "\n",
        "*Warning: What you may find down there in those deep convolutions may not appear recognizable to you.*"
      ]
    },
    {
      "cell_type": "markdown",
      "metadata": {
        "id": "igzteMq7ohke"
      },
      "source": [
        "<img src = 'https://miro.medium.com/max/1400/1*OHifHVQLIIumP865ASipXA.png' >"
      ]
    },
    {
      "cell_type": "markdown",
      "metadata": {
        "id": "VQtbhjMoohke"
      },
      "source": [
        "## **Building a \"Deep\" Convolutional Neural Network**"
      ]
    },
    {
      "cell_type": "markdown",
      "source": [
        "### **Importing the required packages**"
      ],
      "metadata": {
        "id": "vriTWwlFxmjh"
      }
    },
    {
      "cell_type": "code",
      "execution_count": null,
      "metadata": {
        "collapsed": true,
        "id": "aGokptTUohkf"
      },
      "outputs": [],
      "source": [
        "import numpy as np                   # Optimized scientific computing library\n",
        "import matplotlib.pyplot as plt      # For plotting\n",
        "import random                        # for generating random numbers\n",
        "from sklearn.metrics import confusion_matrix  # for getting confusion matrix\n",
        "import seaborn as sns                # for plotting the confusion matrix as a heatmap\n",
        "\n",
        "\n",
        "from keras.datasets import mnist     # importing the dataset\n",
        "from keras import models             # used for loading the saved model\n",
        "from keras.models import Sequential  # Model type to be used\n",
        "from keras.utils import to_categorical   # to convert\n",
        "\n",
        "# import some additional tools\n",
        "from keras.layers import Dense, Dropout, Activation # Types of layers to be used in our model\n",
        "from keras.layers import Conv2D, MaxPooling2D, ZeroPadding2D, GlobalAveragePooling2D, Flatten # for convolution related operations\n",
        "from keras.layers import BatchNormalization              # for normalization of inputs"
      ]
    },
    {
      "cell_type": "markdown",
      "source": [
        "### **Loading the data, and normalizing**"
      ],
      "metadata": {
        "id": "doIOVxydxve3"
      }
    },
    {
      "cell_type": "code",
      "execution_count": null,
      "metadata": {
        "collapsed": true,
        "id": "sbLrXbU9ohkf"
      },
      "outputs": [],
      "source": [
        "# Reload the MNIST data\n",
        "(X_train, y_train), (X_test, y_test) = mnist.load_data()"
      ]
    },
    {
      "cell_type": "code",
      "execution_count": null,
      "metadata": {
        "id": "NJ9xcE9wohkf",
        "colab": {
          "base_uri": "https://localhost:8080/"
        },
        "outputId": "feb5959a-3175-418c-f7eb-29e6e24616ec"
      },
      "outputs": [
        {
          "output_type": "stream",
          "name": "stdout",
          "text": [
            "Training matrix shape:  (60000, 28, 28, 1)\n",
            "Testing matrix shape:   (10000, 28, 28, 1)\n"
          ]
        }
      ],
      "source": [
        "# Again, do some formatting\n",
        "# Except we do not flatten each image into a 784-length vector because we want to perform convolutions first\n",
        "\n",
        "X_train = X_train.reshape(60000, 28, 28, 1) #add an additional dimension to represent the single-channel\n",
        "X_test = X_test.reshape(10000, 28, 28, 1)\n",
        "\n",
        "X_train = X_train.astype('float32')         # change integers to 32-bit floating point numbers\n",
        "X_test = X_test.astype('float32')\n",
        "\n",
        "X_train /= 255                              # normalize each value for each pixel for the entire vector for each input\n",
        "X_test /= 255\n",
        "\n",
        "print(f\"Training matrix shape:  {X_train.shape}\")\n",
        "print(f\"Testing matrix shape:   {X_test.shape}\")"
      ]
    },
    {
      "cell_type": "code",
      "execution_count": null,
      "metadata": {
        "collapsed": true,
        "id": "ZF8dIG2Dohkf"
      },
      "outputs": [],
      "source": [
        "# one-hot format classes\n",
        "\n",
        "n_classes = 10 # number of unique digits\n",
        "\n",
        "Y_train = to_categorical(y_train, n_classes)\n",
        "Y_test = to_categorical(y_test, n_classes)"
      ]
    },
    {
      "cell_type": "markdown",
      "source": [
        "### **Defining the Model Architecture**"
      ],
      "metadata": {
        "id": "lHPoFWOKyZX3"
      }
    },
    {
      "cell_type": "code",
      "source": [
        "model = Sequential()                                 # Linear stacking of layers\n",
        "\n",
        "# Convolution Layer 1\n",
        "model.add(Conv2D(16, (3, 3), input_shape=(28,28,1))) # 16 different 3x3 kernels -- so 16 feature maps\n",
        "model.add(BatchNormalization(axis=-1))               # normalize each feature map before activation\n",
        "convLayer01 = Activation('relu')                     # activation\n",
        "model.add(convLayer01)\n",
        "\n",
        "# Convolution Layer 2\n",
        "model.add(Conv2D(16, (3, 3)))                        # 16 different 3x3 kernels -- so 16 feature maps\n",
        "model.add(BatchNormalization(axis=-1))               # normalize each feature map before activation\n",
        "model.add(Activation('relu'))                        # activation\n",
        "convLayer02 = MaxPooling2D(pool_size=(2,2))          # Pool the max values over a 2x2 kernel\n",
        "model.add(convLayer02)\n",
        "\n",
        "# Convolution Layer 3\n",
        "model.add(Conv2D(16,(3, 3)))                         # 16 different 3x3 kernels -- so 16 feature maps\n",
        "model.add(BatchNormalization(axis=-1))               # normalize each feature map before activation\n",
        "convLayer03 = Activation('relu')                     # activation\n",
        "model.add(convLayer03)\n",
        "\n",
        "# Convolution Layer 4\n",
        "model.add(Conv2D(16, (3, 3)))                        # 16 different 3x3 kernels -- so 16 feature maps\n",
        "model.add(BatchNormalization(axis=-1))               # normalize each feature map before activation\n",
        "model.add(Activation('relu'))                        # activation\n",
        "convLayer04 = MaxPooling2D(pool_size=(2,2))          # Pool the max values over a 2x2 kernel\n",
        "model.add(convLayer04)\n",
        "model.add(Flatten())                                 # Flatten final 4x4x16 output matrix into a 256-length vector\n",
        "\n",
        "# Fully Connected Layer 5\n",
        "model.add(Dense(128))                                # 128 FCN nodes\n",
        "model.add(BatchNormalization())                      # normalization\n",
        "model.add(Activation('relu'))                        # activation\n",
        "\n",
        "# Fully Connected Layer 6\n",
        "model.add(Dropout(0.30))                              # 30% dropout of randomly selected nodes\n",
        "model.add(Dense(10))                                 # final 10 FCN nodes\n",
        "model.add(Activation('softmax'))                     # softmax activation"
      ],
      "metadata": {
        "id": "AtJZL5tAERFP"
      },
      "execution_count": null,
      "outputs": []
    },
    {
      "cell_type": "code",
      "execution_count": null,
      "metadata": {
        "id": "yA4YotAgohkf",
        "colab": {
          "base_uri": "https://localhost:8080/"
        },
        "outputId": "6ffcc684-1e67-4775-fd6a-9df689009e87"
      },
      "outputs": [
        {
          "output_type": "stream",
          "name": "stdout",
          "text": [
            "Model: \"sequential_1\"\n",
            "_________________________________________________________________\n",
            " Layer (type)                Output Shape              Param #   \n",
            "=================================================================\n",
            " conv2d (Conv2D)             (None, 26, 26, 16)        160       \n",
            "                                                                 \n",
            " batch_normalization (BatchN  (None, 26, 26, 16)       64        \n",
            " ormalization)                                                   \n",
            "                                                                 \n",
            " activation_3 (Activation)   (None, 26, 26, 16)        0         \n",
            "                                                                 \n",
            " conv2d_1 (Conv2D)           (None, 24, 24, 16)        2320      \n",
            "                                                                 \n",
            " batch_normalization_1 (Batc  (None, 24, 24, 16)       64        \n",
            " hNormalization)                                                 \n",
            "                                                                 \n",
            " activation_4 (Activation)   (None, 24, 24, 16)        0         \n",
            "                                                                 \n",
            " max_pooling2d (MaxPooling2D  (None, 12, 12, 16)       0         \n",
            " )                                                               \n",
            "                                                                 \n",
            " conv2d_2 (Conv2D)           (None, 10, 10, 16)        2320      \n",
            "                                                                 \n",
            " batch_normalization_2 (Batc  (None, 10, 10, 16)       64        \n",
            " hNormalization)                                                 \n",
            "                                                                 \n",
            " activation_5 (Activation)   (None, 10, 10, 16)        0         \n",
            "                                                                 \n",
            " conv2d_3 (Conv2D)           (None, 8, 8, 16)          2320      \n",
            "                                                                 \n",
            " batch_normalization_3 (Batc  (None, 8, 8, 16)         64        \n",
            " hNormalization)                                                 \n",
            "                                                                 \n",
            " activation_6 (Activation)   (None, 8, 8, 16)          0         \n",
            "                                                                 \n",
            " max_pooling2d_1 (MaxPooling  (None, 4, 4, 16)         0         \n",
            " 2D)                                                             \n",
            "                                                                 \n",
            " flatten (Flatten)           (None, 256)               0         \n",
            "                                                                 \n",
            " dense_3 (Dense)             (None, 128)               32896     \n",
            "                                                                 \n",
            " batch_normalization_4 (Batc  (None, 128)              512       \n",
            " hNormalization)                                                 \n",
            "                                                                 \n",
            " activation_7 (Activation)   (None, 128)               0         \n",
            "                                                                 \n",
            " dropout_2 (Dropout)         (None, 128)               0         \n",
            "                                                                 \n",
            " dense_4 (Dense)             (None, 10)                1290      \n",
            "                                                                 \n",
            " activation_8 (Activation)   (None, 10)                0         \n",
            "                                                                 \n",
            "=================================================================\n",
            "Total params: 42,074\n",
            "Trainable params: 41,690\n",
            "Non-trainable params: 384\n",
            "_________________________________________________________________\n"
          ]
        }
      ],
      "source": [
        "model.summary()"
      ]
    },
    {
      "cell_type": "markdown",
      "source": [
        "**This CNN Model has only 40k parameters which is much much smaller in comparison to the previous Dense FCN which we built that had 670k parameters**.\n",
        "Let us also compare their performances when we train the model to see if this model can keep up with the Dense FCN despite having so few parameters!"
      ],
      "metadata": {
        "id": "-ruYGZSz7NLN"
      }
    },
    {
      "cell_type": "code",
      "execution_count": null,
      "metadata": {
        "collapsed": true,
        "id": "ApOHIFL6ohkf"
      },
      "outputs": [],
      "source": [
        "# we'll use the same optimizer\n",
        "\n",
        "model.compile(loss='categorical_crossentropy', optimizer='adam', metrics=['accuracy'])"
      ]
    },
    {
      "cell_type": "markdown",
      "source": [
        "### **Fitting the Model**"
      ],
      "metadata": {
        "id": "VwiEPFWjy4ix"
      }
    },
    {
      "cell_type": "code",
      "execution_count": null,
      "metadata": {
        "id": "ZVSIK-0Johkg",
        "colab": {
          "base_uri": "https://localhost:8080/"
        },
        "outputId": "6c9f58a5-7b86-433a-eb26-c545b79bc113"
      },
      "outputs": [
        {
          "output_type": "stream",
          "name": "stdout",
          "text": [
            "Epoch 1/3\n",
            "469/469 [==============================] - 13s 8ms/step - loss: 0.2240 - accuracy: 0.9368 - val_loss: 0.1587 - val_accuracy: 0.9553\n",
            "Epoch 2/3\n",
            "469/469 [==============================] - 3s 7ms/step - loss: 0.0622 - accuracy: 0.9815 - val_loss: 0.0356 - val_accuracy: 0.9896\n",
            "Epoch 3/3\n",
            "469/469 [==============================] - 3s 7ms/step - loss: 0.0456 - accuracy: 0.9867 - val_loss: 0.0301 - val_accuracy: 0.9901\n",
            "Epoch 1/2\n",
            "118/118 [==============================] - 2s 15ms/step - loss: 0.0298 - accuracy: 0.9911 - val_loss: 0.0273 - val_accuracy: 0.9923\n",
            "Epoch 2/2\n",
            "118/118 [==============================] - 2s 14ms/step - loss: 0.0259 - accuracy: 0.9924 - val_loss: 0.0283 - val_accuracy: 0.9917\n"
          ]
        }
      ],
      "source": [
        "# We can now train our model which is fed data by our batch loader\n",
        "\n",
        "# Now let's train the model\n",
        "history = model.fit(X_train, Y_train,validation_data=(X_test, Y_test),\n",
        "          batch_size=128, epochs=3, verbose=1)\n",
        "history2 = model.fit(X_train, Y_train,validation_data=(X_test, Y_test),\n",
        "          batch_size=512, epochs=2, verbose=1)\n",
        "#Note: In Keras, if we call fit again, on a model that has been partially trained, it will continue the training from that point, instead of training from scratch!\n",
        "# So, if we want to restart the training from scratch, you have to re-declare the model, re-compile it, and then do the training routine!"
      ]
    },
    {
      "cell_type": "markdown",
      "source": [
        "**Increasing batch size after the first few epochs have 2 advantages**\n",
        "1. It is faster to train, as more images are loaded and used for training in parallel.\n",
        "2. All the images together should point the model to its mistake and correct it, so, this means, the model weight updates depend on an overall trend at this point, rather than tweaking the model weights for specific images' Loss values. That means, only if there is overall improvement for a lot of images at once, the weight updation happens in that direction.\n",
        "\n",
        "**In this CNN model, we have used only 40,000 model parameters, compared to the roughly 700,000 parameters we had in the fully connected Model, still this outperforms the Dense FCN MODEL!!!**"
      ],
      "metadata": {
        "id": "FkKSAO_8WarV"
      }
    },
    {
      "cell_type": "code",
      "execution_count": null,
      "metadata": {
        "id": "tD-gOZtDohkg",
        "colab": {
          "base_uri": "https://localhost:8080/",
          "height": 603
        },
        "outputId": "53f68459-4f2f-4f3a-b605-373baacc02c2"
      },
      "outputs": [
        {
          "output_type": "stream",
          "name": "stdout",
          "text": [
            "313/313 [==============================] - 1s 3ms/step - loss: 0.0283 - accuracy: 0.9917\n",
            "Test score: 0.02829417958855629\n",
            "Test accuracy: 0.9916999936103821\n"
          ]
        },
        {
          "output_type": "display_data",
          "data": {
            "text/plain": [
              "<Figure size 648x648 with 1 Axes>"
            ],
            "image/png": "[encoded data removed]"
          },
          "metadata": {
            "needs_background": "light"
          }
        }
      ],
      "source": [
        "score = model.evaluate(X_test, Y_test)\n",
        "print('Test score:', score[0])\n",
        "print('Test accuracy:', score[1])\n",
        "# Function to plot loss\n",
        "def plot_loss(histories):\n",
        "    loss = []\n",
        "    val_loss = []\n",
        "    for history in histories:\n",
        "      loss.extend(history.history['loss'])\n",
        "      val_loss.extend(history.history['val_loss'])\n",
        "\n",
        "    plt.plot(loss, label='loss')\n",
        "    plt.plot(val_loss, label='val_loss')\n",
        "    plt.xlabel('Epoch')\n",
        "    plt.ylabel('Error (Loss)')\n",
        "    plt.legend()\n",
        "    plt.grid(True)\n",
        "histories = [history, history2]\n",
        "plot_loss(histories)"
      ]
    },
    {
      "cell_type": "markdown",
      "metadata": {
        "id": "0awKabxoSk--"
      },
      "source": [
        "### **Inspecting the output**\n",
        "\n",
        "It's always a good idea to inspect the output and make sure everything looks sane. Here we'll look at some examples it gets right, and some examples it gets wrong."
      ]
    },
    {
      "cell_type": "code",
      "execution_count": null,
      "metadata": {
        "collapsed": true,
        "id": "hymd_6OmSk--",
        "colab": {
          "base_uri": "https://localhost:8080/",
          "height": 621
        },
        "outputId": "018b6291-0d9a-44d5-9c28-a3b26d9daf81"
      },
      "outputs": [
        {
          "output_type": "display_data",
          "data": {
            "text/plain": [
              "<Figure size 720x720 with 1 Axes>"
            ],
            "image/png": "[encoded data removed]"
          },
          "metadata": {
            "needs_background": "light"
          }
        }
      ],
      "source": [
        "# The predict_classes function outputs the highest probability class\n",
        "# according to the trained classifier for each input example.\n",
        "y_pred = np.argmax(model.predict(X_test), axis=-1) # we get probabilities for each of the class, and the argmax corresponds the class index with the highest probability\n",
        "\n",
        "# Check which items we got right / wrong\n",
        "correct_indices = np.nonzero(y_pred == y_test)[0]\n",
        "\n",
        "incorrect_indices = np.nonzero(y_pred != y_test)[0]\n",
        "\n",
        "# Let us plot a confusion matrix of the Predictions\n",
        "fig = plt.figure(figsize=(10, 10)) # Set Figure\n",
        "mat = confusion_matrix(y_test, y_pred) # Confusion matrix\n",
        "\n",
        "# Plot Confusion matrix\n",
        "sns.heatmap(mat.T, square=True, annot=True, cbar=False, cmap=plt.cm.Blues, fmt='.0f')\n",
        "plt.xlabel('Predicted Values')\n",
        "plt.ylabel('True Values');\n",
        "plt.title(\"CONFUSION MATRIX\")\n",
        "plt.show();\n"
      ]
    },
    {
      "cell_type": "code",
      "execution_count": null,
      "metadata": {
        "colab": {
          "base_uri": "https://localhost:8080/",
          "height": 657
        },
        "outputId": "cec62345-e673-452f-b3b0-bd105d4f9482",
        "id": "_iOgKpaYSk-_"
      },
      "outputs": [
        {
          "output_type": "display_data",
          "data": {
            "text/plain": [
              "<Figure size 648x648 with 9 Axes>"
            ],
            "image/png": "[encoded data removed]"
          },
          "metadata": {
            "needs_background": "light"
          }
        }
      ],
      "source": [
        "# Let us examine the Correctly labelled images\n",
        "plt.rcParams['figure.figsize'] = (9,9) # Change these values to Make the figures bigger/smaller\n",
        "plt.figure()\n",
        "for i, correct in enumerate(correct_indices[:9]):\n",
        "    plt.subplot(3,3,i+1)\n",
        "    plt.imshow(X_test[correct].reshape(28,28), cmap='gray', interpolation='none')\n",
        "    plt.title(f\"Predicted {y_pred[correct]}, Class {y_test[correct]}\")\n",
        "\n",
        "plt.tight_layout()"
      ]
    },
    {
      "cell_type": "markdown",
      "source": [
        "**Let us examine a few of incorrectly labelled images and think see if they the model's predictions are reasonable!**"
      ],
      "metadata": {
        "id": "n4jHxxxGSk-_"
      }
    },
    {
      "cell_type": "code",
      "source": [
        "# Let us examine the InCorrectly  labelled images\n",
        "plt.figure()\n",
        "for i, incorrect in enumerate(incorrect_indices[:9]):\n",
        "    plt.subplot(3,3,i+1)\n",
        "    plt.imshow(X_test[incorrect].reshape(28,28), cmap='gray', interpolation='none')\n",
        "    plt.title(f\"Predicted {y_pred[incorrect]}, Class {y_test[incorrect]}\")\n",
        "\n",
        "plt.tight_layout()"
      ],
      "metadata": {
        "colab": {
          "base_uri": "https://localhost:8080/",
          "height": 657
        },
        "outputId": "0b449396-54d9-425d-c8c6-b1670765fa8a",
        "id": "z_1kQ_AmSk-_"
      },
      "execution_count": null,
      "outputs": [
        {
          "output_type": "display_data",
          "data": {
            "text/plain": [
              "<Figure size 648x648 with 9 Axes>"
            ],
            "image/png": "[encoded data removed]"
          },
          "metadata": {
            "needs_background": "light"
          }
        }
      ]
    },
    {
      "cell_type": "markdown",
      "source": [
        "**In this CNN model,some of the misclassified images are so unclear, that it might even confuse humans!**\n",
        "\n",
        " That being said, there is still room for the model to improve. To further improve the model we can do Things like:\n",
        " *  Data Augumentation on training images before they are fed into the model, for the model to learn generalized features.\n",
        " *  Run training for more epochs without overfitting.(One has to experiment with different hyperparameters and best practices to find out the best model, and stopping point for training!)\n",
        " *  make a larger and deeper model architecture etc.\n",
        "\n",
        "\n",
        " to further improve the performance\n",
        "\n",
        "  Note: One has to keep in mind that, in general the end goal of this process is to train the most efficient model that has learnt the features from the data as effectively as possible, so that it is fast and accurate at the same time. There will always be a trade-off between speed and accuracy. But Larger,more accurate networks aren't always better depending on the use case."
      ],
      "metadata": {
        "id": "AJy9wrJYSk-_"
      }
    },
    {
      "cell_type": "markdown",
      "source": [
        "## **Now that The model has been trained, we would like to save it, download it, load it and use it for future inferences.**"
      ],
      "metadata": {
        "id": "VRptJAmgCviz"
      }
    },
    {
      "cell_type": "code",
      "source": [
        "# Save model\n",
        "model.save(\"trained_CNN_model.h5\")\n",
        "\n",
        "# Load the saved model\n",
        "saved_model = models.load_model('trained_CNN_model.h5')\n"
      ],
      "metadata": {
        "id": "GMbgIICPCvi8"
      },
      "execution_count": null,
      "outputs": []
    },
    {
      "cell_type": "code",
      "source": [
        "predicted_classes = np.argmax(model.predict(X_test), axis=-1) # we get probabilities for each of the class, and the argmax corresponds the class index with the highest probability\n",
        "predicted_classes_from_saved = np.argmax(saved_model.predict(X_test), axis=-1)\n",
        "(predicted_classes == predicted_classes_from_saved).all()\n"
      ],
      "metadata": {
        "colab": {
          "base_uri": "https://localhost:8080/"
        },
        "outputId": "59b7d4e6-51bd-49e7-e99d-c6980a910d91",
        "id": "vHufc0W7Cvi8"
      },
      "execution_count": null,
      "outputs": [
        {
          "output_type": "execute_result",
          "data": {
            "text/plain": [
              "True"
            ]
          },
          "metadata": {},
          "execution_count": 38
        }
      ]
    },
    {
      "cell_type": "markdown",
      "source": [
        "***We can see that the Saved model's predictions match the Original model's prediction, confirming that we have been able to properly save and retrieve our model and it it works identically to the model trained on Google Colab!***"
      ],
      "metadata": {
        "id": "sYRO1DL_Cvi9"
      }
    },
    {
      "cell_type": "markdown",
      "source": [
        "## **THE MAIN DIFFERENCES between CNN and FCN and why CNN works**\n",
        "\n",
        "Let us compare the number of parameters we used in each of the models, and the accuracies.\n",
        "How is CNN able to perform so much better, despite having so few parameters?\n",
        "\n",
        "* The key is to understand that information is present, not in the pixel values but in the way they interact and change in the neigborhood and in a global sense. For example: If your screen is all white, you would get no information, if it were all random, you would still get no information, but if there is a clear gradient, or some other pattern arising out of structured transitions, you would easily recognize it! Information is not contained in the raw pixel values at all. It is only when you see a pixel, with its surrounding pixels, you recognize some features locally, go one level higher, understand how that feature fits in that setting, and finally look globally, you start to make complete sense of it!\n",
        "\n",
        "* In CNNs we have Filters, which are looking for matches of specific patterns in the image, over a small sub-section of the images.\n",
        "* This means, we are looking for information, not directly in the pixels, but rather in layers of absraction such as low level features like lines, curves, blobs etc. And gradually as we go deeper in the Network, going to higher level features combining these matches lines and curves in meaningful fashions as we move deeper into the network.\n",
        "\n",
        "* **Parameter sharing:** Since we are looking for patterns using filters and slide it across the image. The matching units, if they are present at different locations in the image are all detected with the use of a single filter's weight parameters! All units within this layer plane share the same weights; hence it is called weight/parameter sharing. **Thus we need much fewer parameters to match patterns, than what what we would need in a Dense FCNN**!\n",
        "\n",
        "* **Translational Equivariance:** As the same weights are shared across the images, if an object occurs in any image it will be detected irrespective of its position in the image. This property is very useful for applications such as image classification, object detection, etc where there may be multiple occurrences of the object or the object might be in motion. CNNs are naturally equivariant to Translations but are not naturally equivariant to some other transformations such as changes in the scale or rotation of the image. Other mechanisms are required to handle such transformations.\n",
        "\n",
        "<img src = 'https://miro.medium.com/max/1400/0*0Y8LuG5wPnzO6W3n.jpeg' >\n",
        "Various instances of Cats detected due to property of Translational Equivariance."
      ],
      "metadata": {
        "id": "oSoRGB1K4_81"
      }
    },
    {
      "cell_type": "markdown",
      "source": [
        "### **For a 3D visualization of a very similar network** visit http://scs.ryerson.ca/~aharley/vis/conv/"
      ],
      "metadata": {
        "id": "iTrqmojrHLGs"
      }
    },
    {
      "cell_type": "code",
      "source": [],
      "metadata": {
        "id": "zBBPbuXI2BJ_"
      },
      "execution_count": null,
      "outputs": []
    }
  ],
  "metadata": {
    "kernelspec": {
      "display_name": "Tensorflow (GPU)",
      "language": "python",
      "name": "py3.6-tfgpu"
    },
    "language_info": {
      "codemirror_mode": {
        "name": "ipython",
        "version": 3
      },
      "file_extension": ".py",
      "mimetype": "text/x-python",
      "name": "python",
      "nbconvert_exporter": "python",
      "pygments_lexer": "ipython3",
      "version": "3.6.6"
    },
    "colab": {
      "provenance": [],
      "collapsed_sections": [
        "sd-h2zU9V8BW",
        "vTOs8PaqxsHH",
        "TpV5MsOLov0O",
        "rz-DVUSHUPze"
      ],
      "include_colab_link": true
    },
    "accelerator": "GPU"
  },
  "nbformat": 4,
  "nbformat_minor": 0
}